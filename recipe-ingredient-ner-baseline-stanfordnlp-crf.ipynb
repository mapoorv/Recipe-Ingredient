{
 "cells": [
  {
   "cell_type": "markdown",
   "id": "c3b358e3",
   "metadata": {
    "papermill": {
     "duration": 0.061987,
     "end_time": "2022-04-09T12:52:25.806040",
     "exception": false,
     "start_time": "2022-04-09T12:52:25.744053",
     "status": "completed"
    },
    "tags": []
   },
   "source": [
    "# Prepare Data"
   ]
  },
  {
   "cell_type": "code",
   "execution_count": 1,
   "id": "128ec711",
   "metadata": {
    "_cell_guid": "b1076dfc-b9ad-4769-8c92-a6c4dae69d19",
    "_uuid": "8f2839f25d086af736a60e9eeb907d3b93b6e0e5",
    "execution": {
     "iopub.execute_input": "2022-04-09T12:52:25.937425Z",
     "iopub.status.busy": "2022-04-09T12:52:25.934806Z",
     "iopub.status.idle": "2022-04-09T12:52:25.990684Z",
     "shell.execute_reply": "2022-04-09T12:52:25.991217Z",
     "shell.execute_reply.started": "2022-04-09T12:16:37.635459Z"
    },
    "papermill": {
     "duration": 0.122982,
     "end_time": "2022-04-09T12:52:25.991399",
     "exception": false,
     "start_time": "2022-04-09T12:52:25.868417",
     "status": "completed"
    },
    "tags": []
   },
   "outputs": [
    {
     "data": {
      "application/javascript": [
       "\n",
       "        if (window._pyforest_update_imports_cell) { window._pyforest_update_imports_cell('import pandas as pd'); }\n",
       "    "
      ],
      "text/plain": [
       "<IPython.core.display.Javascript object>"
      ]
     },
     "metadata": {},
     "output_type": "display_data"
    },
    {
     "data": {
      "application/javascript": [
       "\n",
       "        if (window._pyforest_update_imports_cell) { window._pyforest_update_imports_cell('import pandas as pd'); }\n",
       "    "
      ],
      "text/plain": [
       "<IPython.core.display.Javascript object>"
      ]
     },
     "metadata": {},
     "output_type": "display_data"
    }
   ],
   "source": [
    "df_train = pd.read_csv(\"C:/Users/ac/OneDrive/Desktop/Projects/Project 9/train.csv\")\n",
    "df_test = pd.read_csv(\"C:/Users/ac/OneDrive/Desktop/Projects/Project 9/test.csv\")"
   ]
  },
  {
   "cell_type": "code",
   "execution_count": 2,
   "id": "d1c55164",
   "metadata": {
    "execution": {
     "iopub.execute_input": "2022-04-09T12:52:26.119511Z",
     "iopub.status.busy": "2022-04-09T12:52:26.118863Z",
     "iopub.status.idle": "2022-04-09T12:52:26.130265Z",
     "shell.execute_reply": "2022-04-09T12:52:26.130936Z",
     "shell.execute_reply.started": "2022-04-09T12:17:26.660468Z"
    },
    "papermill": {
     "duration": 0.077341,
     "end_time": "2022-04-09T12:52:26.131118",
     "exception": false,
     "start_time": "2022-04-09T12:52:26.053777",
     "status": "completed"
    },
    "tags": []
   },
   "outputs": [
    {
     "data": {
      "text/html": [
       "<div>\n",
       "<style scoped>\n",
       "    .dataframe tbody tr th:only-of-type {\n",
       "        vertical-align: middle;\n",
       "    }\n",
       "\n",
       "    .dataframe tbody tr th {\n",
       "        vertical-align: top;\n",
       "    }\n",
       "\n",
       "    .dataframe thead th {\n",
       "        text-align: right;\n",
       "    }\n",
       "</style>\n",
       "<table border=\"1\" class=\"dataframe\">\n",
       "  <thead>\n",
       "    <tr style=\"text-align: right;\">\n",
       "      <th></th>\n",
       "      <th>source</th>\n",
       "      <th>ingredient_id</th>\n",
       "      <th>token_id</th>\n",
       "      <th>token</th>\n",
       "      <th>label</th>\n",
       "    </tr>\n",
       "  </thead>\n",
       "  <tbody>\n",
       "    <tr>\n",
       "      <th>0</th>\n",
       "      <td>ar</td>\n",
       "      <td>0</td>\n",
       "      <td>0</td>\n",
       "      <td>4</td>\n",
       "      <td>QUANTITY</td>\n",
       "    </tr>\n",
       "    <tr>\n",
       "      <th>1</th>\n",
       "      <td>ar</td>\n",
       "      <td>0</td>\n",
       "      <td>1</td>\n",
       "      <td>cloves</td>\n",
       "      <td>UNIT</td>\n",
       "    </tr>\n",
       "    <tr>\n",
       "      <th>2</th>\n",
       "      <td>ar</td>\n",
       "      <td>0</td>\n",
       "      <td>2</td>\n",
       "      <td>garlic</td>\n",
       "      <td>NAME</td>\n",
       "    </tr>\n",
       "    <tr>\n",
       "      <th>3</th>\n",
       "      <td>ar</td>\n",
       "      <td>1</td>\n",
       "      <td>0</td>\n",
       "      <td>2</td>\n",
       "      <td>QUANTITY</td>\n",
       "    </tr>\n",
       "    <tr>\n",
       "      <th>4</th>\n",
       "      <td>ar</td>\n",
       "      <td>1</td>\n",
       "      <td>1</td>\n",
       "      <td>tablespoons</td>\n",
       "      <td>UNIT</td>\n",
       "    </tr>\n",
       "  </tbody>\n",
       "</table>\n",
       "</div>"
      ],
      "text/plain": [
       "  source  ingredient_id  token_id        token     label\n",
       "0     ar              0         0            4  QUANTITY\n",
       "1     ar              0         1       cloves      UNIT\n",
       "2     ar              0         2       garlic      NAME\n",
       "3     ar              1         0            2  QUANTITY\n",
       "4     ar              1         1  tablespoons      UNIT"
      ]
     },
     "execution_count": 2,
     "metadata": {},
     "output_type": "execute_result"
    }
   ],
   "source": [
    "df_train.head()"
   ]
  },
  {
   "cell_type": "code",
   "execution_count": 11,
   "id": "32b3eb5b",
   "metadata": {
    "execution": {
     "iopub.execute_input": "2022-04-09T12:52:26.383941Z",
     "iopub.status.busy": "2022-04-09T12:52:26.383308Z",
     "iopub.status.idle": "2022-04-09T12:52:26.386666Z",
     "shell.execute_reply": "2022-04-09T12:52:26.387147Z",
     "shell.execute_reply.started": "2022-04-09T12:19:38.194515Z"
    },
    "papermill": {
     "duration": 0.068659,
     "end_time": "2022-04-09T12:52:26.387305",
     "exception": false,
     "start_time": "2022-04-09T12:52:26.318646",
     "status": "completed"
    },
    "tags": []
   },
   "outputs": [],
   "source": [
    "def data_filename(source, split):\n",
    "    return f'{source}_{split}.tsv'"
   ]
  },
  {
   "cell_type": "markdown",
   "id": "2e987fab",
   "metadata": {
    "papermill": {
     "duration": 0.062172,
     "end_time": "2022-04-09T12:52:26.512562",
     "exception": false,
     "start_time": "2022-04-09T12:52:26.450390",
     "status": "completed"
    },
    "tags": []
   },
   "source": [
    "Let's combine the training and test data to make the transformation simpler."
   ]
  },
  {
   "cell_type": "code",
   "execution_count": 12,
   "id": "a78c41e5",
   "metadata": {
    "execution": {
     "iopub.execute_input": "2022-04-09T12:52:26.640284Z",
     "iopub.status.busy": "2022-04-09T12:52:26.639721Z",
     "iopub.status.idle": "2022-04-09T12:52:26.668176Z",
     "shell.execute_reply": "2022-04-09T12:52:26.668689Z",
     "shell.execute_reply.started": "2022-04-09T12:21:03.198579Z"
    },
    "papermill": {
     "duration": 0.094064,
     "end_time": "2022-04-09T12:52:26.668850",
     "exception": false,
     "start_time": "2022-04-09T12:52:26.574786",
     "status": "completed"
    },
    "tags": []
   },
   "outputs": [
    {
     "data": {
      "text/html": [
       "<div>\n",
       "<style scoped>\n",
       "    .dataframe tbody tr th:only-of-type {\n",
       "        vertical-align: middle;\n",
       "    }\n",
       "\n",
       "    .dataframe tbody tr th {\n",
       "        vertical-align: top;\n",
       "    }\n",
       "\n",
       "    .dataframe thead th {\n",
       "        text-align: right;\n",
       "    }\n",
       "</style>\n",
       "<table border=\"1\" class=\"dataframe\">\n",
       "  <thead>\n",
       "    <tr style=\"text-align: right;\">\n",
       "      <th></th>\n",
       "      <th>source</th>\n",
       "      <th>ingredient_id</th>\n",
       "      <th>token_id</th>\n",
       "      <th>token</th>\n",
       "      <th>label</th>\n",
       "      <th>split</th>\n",
       "    </tr>\n",
       "  </thead>\n",
       "  <tbody>\n",
       "    <tr>\n",
       "      <th>0</th>\n",
       "      <td>ar</td>\n",
       "      <td>0</td>\n",
       "      <td>0</td>\n",
       "      <td>4</td>\n",
       "      <td>QUANTITY</td>\n",
       "      <td>train</td>\n",
       "    </tr>\n",
       "    <tr>\n",
       "      <th>1</th>\n",
       "      <td>ar</td>\n",
       "      <td>0</td>\n",
       "      <td>1</td>\n",
       "      <td>cloves</td>\n",
       "      <td>UNIT</td>\n",
       "      <td>train</td>\n",
       "    </tr>\n",
       "    <tr>\n",
       "      <th>2</th>\n",
       "      <td>ar</td>\n",
       "      <td>0</td>\n",
       "      <td>2</td>\n",
       "      <td>garlic</td>\n",
       "      <td>NAME</td>\n",
       "      <td>train</td>\n",
       "    </tr>\n",
       "    <tr>\n",
       "      <th>3</th>\n",
       "      <td>ar</td>\n",
       "      <td>1</td>\n",
       "      <td>0</td>\n",
       "      <td>2</td>\n",
       "      <td>QUANTITY</td>\n",
       "      <td>train</td>\n",
       "    </tr>\n",
       "    <tr>\n",
       "      <th>4</th>\n",
       "      <td>ar</td>\n",
       "      <td>1</td>\n",
       "      <td>1</td>\n",
       "      <td>tablespoons</td>\n",
       "      <td>UNIT</td>\n",
       "      <td>train</td>\n",
       "    </tr>\n",
       "    <tr>\n",
       "      <th>...</th>\n",
       "      <td>...</td>\n",
       "      <td>...</td>\n",
       "      <td>...</td>\n",
       "      <td>...</td>\n",
       "      <td>...</td>\n",
       "      <td>...</td>\n",
       "    </tr>\n",
       "    <tr>\n",
       "      <th>49909</th>\n",
       "      <td>gk</td>\n",
       "      <td>1703</td>\n",
       "      <td>10</td>\n",
       "      <td>-RRB-</td>\n",
       "      <td>O</td>\n",
       "      <td>test</td>\n",
       "    </tr>\n",
       "    <tr>\n",
       "      <th>49910</th>\n",
       "      <td>gk</td>\n",
       "      <td>1704</td>\n",
       "      <td>0</td>\n",
       "      <td>1</td>\n",
       "      <td>QUANTITY</td>\n",
       "      <td>test</td>\n",
       "    </tr>\n",
       "    <tr>\n",
       "      <th>49911</th>\n",
       "      <td>gk</td>\n",
       "      <td>1704</td>\n",
       "      <td>1</td>\n",
       "      <td>sprig</td>\n",
       "      <td>O</td>\n",
       "      <td>test</td>\n",
       "    </tr>\n",
       "    <tr>\n",
       "      <th>49912</th>\n",
       "      <td>gk</td>\n",
       "      <td>1704</td>\n",
       "      <td>2</td>\n",
       "      <td>celery</td>\n",
       "      <td>NAME</td>\n",
       "      <td>test</td>\n",
       "    </tr>\n",
       "    <tr>\n",
       "      <th>49913</th>\n",
       "      <td>gk</td>\n",
       "      <td>1704</td>\n",
       "      <td>3</td>\n",
       "      <td>leaves</td>\n",
       "      <td>NAME</td>\n",
       "      <td>test</td>\n",
       "    </tr>\n",
       "  </tbody>\n",
       "</table>\n",
       "<p>49914 rows × 6 columns</p>\n",
       "</div>"
      ],
      "text/plain": [
       "      source  ingredient_id  token_id        token     label  split\n",
       "0         ar              0         0            4  QUANTITY  train\n",
       "1         ar              0         1       cloves      UNIT  train\n",
       "2         ar              0         2       garlic      NAME  train\n",
       "3         ar              1         0            2  QUANTITY  train\n",
       "4         ar              1         1  tablespoons      UNIT  train\n",
       "...      ...            ...       ...          ...       ...    ...\n",
       "49909     gk           1703        10        -RRB-         O   test\n",
       "49910     gk           1704         0            1  QUANTITY   test\n",
       "49911     gk           1704         1        sprig         O   test\n",
       "49912     gk           1704         2       celery      NAME   test\n",
       "49913     gk           1704         3       leaves      NAME   test\n",
       "\n",
       "[49914 rows x 6 columns]"
      ]
     },
     "execution_count": 12,
     "metadata": {},
     "output_type": "execute_result"
    }
   ],
   "source": [
    "df = pd.concat([df_train.assign(split='train'), df_test.assign(split='test')], axis=0, ignore_index=True)\n",
    "df"
   ]
  },
  {
   "cell_type": "code",
   "execution_count": 13,
   "id": "9fcd01fc",
   "metadata": {
    "execution": {
     "iopub.execute_input": "2022-04-09T12:52:26.802207Z",
     "iopub.status.busy": "2022-04-09T12:52:26.801562Z",
     "iopub.status.idle": "2022-04-09T12:52:26.821297Z",
     "shell.execute_reply": "2022-04-09T12:52:26.820709Z",
     "shell.execute_reply.started": "2022-04-09T12:22:12.661579Z"
    },
    "papermill": {
     "duration": 0.088021,
     "end_time": "2022-04-09T12:52:26.821441",
     "exception": false,
     "start_time": "2022-04-09T12:52:26.733420",
     "status": "completed"
    },
    "tags": []
   },
   "outputs": [],
   "source": [
    "assert not df.duplicated(['source', 'ingredient_id', 'token_id', 'split']).any()"
   ]
  },
  {
   "cell_type": "markdown",
   "id": "20e7dbaf",
   "metadata": {
    "papermill": {
     "duration": 0.065706,
     "end_time": "2022-04-09T12:52:26.951345",
     "exception": false,
     "start_time": "2022-04-09T12:52:26.885639",
     "status": "completed"
    },
    "tags": []
   },
   "source": [
    "To add the blank line between ingredients we'll insert a blank at token_id -1."
   ]
  },
  {
   "cell_type": "code",
   "execution_count": 14,
   "id": "464a390c",
   "metadata": {
    "execution": {
     "iopub.execute_input": "2022-04-09T12:52:27.086194Z",
     "iopub.status.busy": "2022-04-09T12:52:27.085486Z",
     "iopub.status.idle": "2022-04-09T12:52:27.106767Z",
     "shell.execute_reply": "2022-04-09T12:52:27.107312Z",
     "shell.execute_reply.started": "2022-04-09T12:24:22.503469Z"
    },
    "papermill": {
     "duration": 0.091425,
     "end_time": "2022-04-09T12:52:27.107497",
     "exception": false,
     "start_time": "2022-04-09T12:52:27.016072",
     "status": "completed"
    },
    "tags": []
   },
   "outputs": [],
   "source": [
    "df_spacer = (\n",
    "    df[['source', 'ingredient_id', 'split']]\n",
    "    .drop_duplicates()\n",
    "    .assign(token_id=-1,\n",
    "            label='',\n",
    "            token='')\n",
    ")"
   ]
  },
  {
   "cell_type": "code",
   "execution_count": 15,
   "id": "0ffdacab",
   "metadata": {
    "execution": {
     "iopub.execute_input": "2022-04-09T12:52:27.247648Z",
     "iopub.status.busy": "2022-04-09T12:52:27.246986Z",
     "iopub.status.idle": "2022-04-09T12:52:27.290118Z",
     "shell.execute_reply": "2022-04-09T12:52:27.289511Z",
     "shell.execute_reply.started": "2022-04-09T12:25:10.267170Z"
    },
    "papermill": {
     "duration": 0.113063,
     "end_time": "2022-04-09T12:52:27.290261",
     "exception": false,
     "start_time": "2022-04-09T12:52:27.177198",
     "status": "completed"
    },
    "tags": []
   },
   "outputs": [],
   "source": [
    "df_out = (\n",
    "    pd.concat([df_spacer, df], axis=0, ignore_index=True)\n",
    "    .sort_values(['source', 'split', 'ingredient_id', 'token_id'])\n",
    ")"
   ]
  },
  {
   "cell_type": "markdown",
   "id": "1a546f8b",
   "metadata": {
    "papermill": {
     "duration": 0.063838,
     "end_time": "2022-04-09T12:52:27.418886",
     "exception": false,
     "start_time": "2022-04-09T12:52:27.355048",
     "status": "completed"
    },
    "tags": []
   },
   "source": [
    "It contains quotes and so CSV quote escaping will do some funny things."
   ]
  },
  {
   "cell_type": "code",
   "execution_count": 16,
   "id": "d2aae508",
   "metadata": {
    "execution": {
     "iopub.execute_input": "2022-04-09T12:52:27.577530Z",
     "iopub.status.busy": "2022-04-09T12:52:27.575249Z",
     "iopub.status.idle": "2022-04-09T12:52:27.581049Z",
     "shell.execute_reply": "2022-04-09T12:52:27.580572Z",
     "shell.execute_reply.started": "2022-04-09T12:31:56.820772Z"
    },
    "papermill": {
     "duration": 0.099444,
     "end_time": "2022-04-09T12:52:27.581231",
     "exception": false,
     "start_time": "2022-04-09T12:52:27.481787",
     "status": "completed"
    },
    "tags": []
   },
   "outputs": [
    {
     "data": {
      "text/plain": [
       "True"
      ]
     },
     "execution_count": 16,
     "metadata": {},
     "output_type": "execute_result"
    }
   ],
   "source": [
    "df_out.token.str.contains('\"').any()"
   ]
  },
  {
   "cell_type": "markdown",
   "id": "2579867b",
   "metadata": {
    "papermill": {
     "duration": 0.063321,
     "end_time": "2022-04-09T12:52:27.709316",
     "exception": false,
     "start_time": "2022-04-09T12:52:27.645995",
     "status": "completed"
    },
    "tags": []
   },
   "source": [
    "It doesn't contain `_`, so let's use that as the quote character."
   ]
  },
  {
   "cell_type": "code",
   "execution_count": 17,
   "id": "4c3a9692",
   "metadata": {
    "execution": {
     "iopub.execute_input": "2022-04-09T12:52:27.854107Z",
     "iopub.status.busy": "2022-04-09T12:52:27.848757Z",
     "iopub.status.idle": "2022-04-09T12:52:27.871362Z",
     "shell.execute_reply": "2022-04-09T12:52:27.870768Z",
     "shell.execute_reply.started": "2022-04-09T12:32:26.310062Z"
    },
    "papermill": {
     "duration": 0.098526,
     "end_time": "2022-04-09T12:52:27.871497",
     "exception": false,
     "start_time": "2022-04-09T12:52:27.772971",
     "status": "completed"
    },
    "tags": []
   },
   "outputs": [
    {
     "data": {
      "text/plain": [
       "False"
      ]
     },
     "execution_count": 17,
     "metadata": {},
     "output_type": "execute_result"
    }
   ],
   "source": [
    "df_out.token.str.contains('_').any()"
   ]
  },
  {
   "cell_type": "code",
   "execution_count": 18,
   "id": "9c658ca9",
   "metadata": {
    "execution": {
     "iopub.execute_input": "2022-04-09T12:52:28.010513Z",
     "iopub.status.busy": "2022-04-09T12:52:28.005475Z",
     "iopub.status.idle": "2022-04-09T12:52:28.110767Z",
     "shell.execute_reply": "2022-04-09T12:52:28.110237Z",
     "shell.execute_reply.started": "2022-04-09T12:34:32.430470Z"
    },
    "papermill": {
     "duration": 0.175489,
     "end_time": "2022-04-09T12:52:28.110936",
     "exception": false,
     "start_time": "2022-04-09T12:52:27.935447",
     "status": "completed"
    },
    "tags": []
   },
   "outputs": [],
   "source": [
    "for source in ['ar', 'gk']:\n",
    "    for split in ['train', 'test']:\n",
    "        (df_out\n",
    "        .query('split == @split & source == @source')\n",
    "        .to_csv(data_filename(source, split),\n",
    "                sep='\\t',\n",
    "                header=False,\n",
    "                index=False,\n",
    "                quotechar='_',\n",
    "                columns=['token', 'label'])\n",
    "        )"
   ]
  },
  {
   "cell_type": "markdown",
   "id": "68428f78",
   "metadata": {
    "papermill": {
     "duration": 0.064281,
     "end_time": "2022-04-09T12:52:28.239290",
     "exception": false,
     "start_time": "2022-04-09T12:52:28.175009",
     "status": "completed"
    },
    "tags": []
   },
   "source": [
    "Check output sizes"
   ]
  },
  {
   "cell_type": "code",
   "execution_count": 19,
   "id": "f7699df6",
   "metadata": {
    "execution": {
     "iopub.execute_input": "2022-04-09T12:52:28.376403Z",
     "iopub.status.busy": "2022-04-09T12:52:28.374476Z",
     "iopub.status.idle": "2022-04-09T12:52:28.392152Z",
     "shell.execute_reply": "2022-04-09T12:52:28.392565Z",
     "shell.execute_reply.started": "2022-04-09T12:35:15.012679Z"
    },
    "papermill": {
     "duration": 0.089897,
     "end_time": "2022-04-09T12:52:28.392768",
     "exception": false,
     "start_time": "2022-04-09T12:52:28.302871",
     "status": "completed"
    },
    "tags": []
   },
   "outputs": [
    {
     "data": {
      "text/plain": [
       "source  split\n",
       "ar      test      3271\n",
       "        train     9682\n",
       "gk      test     11591\n",
       "        train    34169\n",
       "Name: token, dtype: int64"
      ]
     },
     "execution_count": 19,
     "metadata": {},
     "output_type": "execute_result"
    }
   ],
   "source": [
    "df_out.groupby(['source', 'split'])['token'].count()"
   ]
  },
  {
   "cell_type": "code",
   "execution_count": 20,
   "id": "1ee7b22f",
   "metadata": {
    "execution": {
     "iopub.execute_input": "2022-04-09T12:52:28.532185Z",
     "iopub.status.busy": "2022-04-09T12:52:28.531547Z",
     "iopub.status.idle": "2022-04-09T12:52:29.350338Z",
     "shell.execute_reply": "2022-04-09T12:52:29.349367Z",
     "shell.execute_reply.started": "2022-04-09T12:34:49.229526Z"
    },
    "papermill": {
     "duration": 0.892636,
     "end_time": "2022-04-09T12:52:29.350491",
     "exception": false,
     "start_time": "2022-04-09T12:52:28.457855",
     "status": "completed"
    },
    "tags": []
   },
   "outputs": [
    {
     "name": "stdout",
     "output_type": "stream",
     "text": [
      "  3271 ar_test.tsv\r\n",
      "  9682 ar_train.tsv\r\n",
      " 11591 gk_test.tsv\r\n",
      " 34170 gk_train.tsv\r\n",
      " 58714 total\r\n"
     ]
    }
   ],
   "source": [
    "!wc -l *.tsv"
   ]
  },
  {
   "cell_type": "markdown",
   "id": "8c9ba374",
   "metadata": {
    "papermill": {
     "duration": 0.065797,
     "end_time": "2022-04-09T12:52:29.487721",
     "exception": false,
     "start_time": "2022-04-09T12:52:29.421924",
     "status": "completed"
    },
    "tags": []
   },
   "source": [
    "Check there are no _ in the output (i.e. quoting wasn't used)."
   ]
  },
  {
   "cell_type": "code",
   "execution_count": 21,
   "id": "d98459d5",
   "metadata": {
    "execution": {
     "iopub.execute_input": "2022-04-09T12:52:29.623055Z",
     "iopub.status.busy": "2022-04-09T12:52:29.622396Z",
     "iopub.status.idle": "2022-04-09T12:52:30.435570Z",
     "shell.execute_reply": "2022-04-09T12:52:30.436110Z",
     "shell.execute_reply.started": "2022-04-09T12:35:23.265366Z"
    },
    "papermill": {
     "duration": 0.883653,
     "end_time": "2022-04-09T12:52:30.436298",
     "exception": false,
     "start_time": "2022-04-09T12:52:29.552645",
     "status": "completed"
    },
    "tags": []
   },
   "outputs": [],
   "source": [
    "!grep '_' *.tsv"
   ]
  },
  {
   "cell_type": "markdown",
   "id": "d9214c7c",
   "metadata": {
    "papermill": {
     "duration": 0.064255,
     "end_time": "2022-04-09T12:52:30.565045",
     "exception": false,
     "start_time": "2022-04-09T12:52:30.500790",
     "status": "completed"
    },
    "tags": []
   },
   "source": [
    "Each line of the file is either a single tab (separating different texts), or a token followed by a tab and then the entity type.\n",
    "\n",
    "So for example the first ingredient is `4 cloves garlic`, which is a quantity (4) followed by a unit (cloves) and a name (garlic)."
   ]
  },
  {
   "cell_type": "code",
   "execution_count": 22,
   "id": "0c2a804f",
   "metadata": {
    "execution": {
     "iopub.execute_input": "2022-04-09T12:52:30.699512Z",
     "iopub.status.busy": "2022-04-09T12:52:30.698625Z",
     "iopub.status.idle": "2022-04-09T12:52:31.493049Z",
     "shell.execute_reply": "2022-04-09T12:52:31.493484Z",
     "shell.execute_reply.started": "2022-04-09T12:35:24.250862Z"
    },
    "papermill": {
     "duration": 0.864628,
     "end_time": "2022-04-09T12:52:31.493684",
     "exception": false,
     "start_time": "2022-04-09T12:52:30.629056",
     "status": "completed"
    },
    "tags": []
   },
   "outputs": [
    {
     "name": "stdout",
     "output_type": "stream",
     "text": [
      "^I\r\n",
      "4^IQUANTITY\r\n",
      "cloves^IUNIT\r\n",
      "garlic^INAME\r\n",
      "^I\r\n",
      "2^IQUANTITY\r\n",
      "tablespoons^IUNIT\r\n",
      "vegetable^INAME\r\n",
      "oil^INAME\r\n",
      ",^IO\r\n"
     ]
    }
   ],
   "source": [
    "!head {data_filename('ar', 'train')} | cat -t"
   ]
  },
  {
   "cell_type": "markdown",
   "id": "ba79b3be",
   "metadata": {
    "papermill": {
     "duration": 0.064958,
     "end_time": "2022-04-09T12:52:31.622932",
     "exception": false,
     "start_time": "2022-04-09T12:52:31.557974",
     "status": "completed"
    },
    "tags": []
   },
   "source": [
    "# Train NER Model\n",
    "\n",
    "Now we want to train a Stanford NER model on the new annotations.\n",
    "\n",
    "First we have to configure it; but there's no information on the paper on how it's configured.\n",
    "I've copied this template configuration out of the [FAQ](https://nlp.stanford.edu/software/crf-faq.html)\n",
    "For more information on the parameters you can check the [NERFeatureFactory documentation](https://nlp.stanford.edu/nlp/javadoc/javanlp/edu/stanford/nlp/ie/NERFeatureFactory.html) or the [source](https://github.com/stanfordnlp/CoreNLP/blob/main/src/edu/stanford/nlp/ie/NERFeatureFactory.java)."
   ]
  },
  {
   "cell_type": "code",
   "execution_count": 23,
   "id": "7a3f7c95",
   "metadata": {
    "execution": {
     "iopub.execute_input": "2022-04-09T12:52:31.762251Z",
     "iopub.status.busy": "2022-04-09T12:52:31.761202Z",
     "iopub.status.idle": "2022-04-09T12:52:31.763104Z",
     "shell.execute_reply": "2022-04-09T12:52:31.763531Z",
     "shell.execute_reply.started": "2022-04-09T12:35:44.350324Z"
    },
    "papermill": {
     "duration": 0.075217,
     "end_time": "2022-04-09T12:52:31.763715",
     "exception": false,
     "start_time": "2022-04-09T12:52:31.688498",
     "status": "completed"
    },
    "tags": []
   },
   "outputs": [],
   "source": [
    "from typing import List\n",
    "\n",
    "def ner_prop_str(train_files: List[str], test_files: List[str], output: str) -> str:\n",
    "    \"\"\"Returns configuration string to train NER model\"\"\"\n",
    "    train_file_str = ','.join(train_files)\n",
    "    test_file_str = ','.join(test_files)\n",
    "    return f\"\"\"\n",
    "trainFileList = {train_file_str}\n",
    "testFiles = {test_file_str}\n",
    "serializeTo = {output}\n",
    "map = word=0,answer=1\n",
    "\n",
    "useClassFeature=true\n",
    "useWord=true\n",
    "useNGrams=true\n",
    "noMidNGrams=true\n",
    "maxNGramLeng=6\n",
    "usePrev=true\n",
    "useNext=true\n",
    "useSequences=true\n",
    "usePrevSequences=true\n",
    "maxLeft=1\n",
    "useTypeSeqs=true\n",
    "useTypeSeqs2=true\n",
    "useTypeySequences=true\n",
    "wordShape=chris2useLC\n",
    "useDisjunctive=true\n",
    "\"\"\""
   ]
  },
  {
   "cell_type": "markdown",
   "id": "234cc209",
   "metadata": {
    "papermill": {
     "duration": 0.064483,
     "end_time": "2022-04-09T12:52:31.892638",
     "exception": false,
     "start_time": "2022-04-09T12:52:31.828155",
     "status": "completed"
    },
    "tags": []
   },
   "source": [
    "This is expected to be a file, so let's write a helper that writes it to a file. (An alternative would be to pass these as arguments to the trainer)."
   ]
  },
  {
   "cell_type": "code",
   "execution_count": 24,
   "id": "2fa09996",
   "metadata": {
    "execution": {
     "iopub.execute_input": "2022-04-09T12:52:32.029495Z",
     "iopub.status.busy": "2022-04-09T12:52:32.028906Z",
     "iopub.status.idle": "2022-04-09T12:52:32.033348Z",
     "shell.execute_reply": "2022-04-09T12:52:32.032854Z",
     "shell.execute_reply.started": "2022-04-09T12:35:46.499419Z"
    },
    "papermill": {
     "duration": 0.071804,
     "end_time": "2022-04-09T12:52:32.033483",
     "exception": false,
     "start_time": "2022-04-09T12:52:31.961679",
     "status": "completed"
    },
    "tags": []
   },
   "outputs": [],
   "source": [
    "def write_ner_prop_file(ner_prop_file: str, train_files: List[str], test_files: List[str], output_file: str) -> None:\n",
    "    with open(ner_prop_file, 'wt') as f:\n",
    "        props = ner_prop_str(train_files, test_files, output_file)\n",
    "        f.write(props)"
   ]
  },
  {
   "cell_type": "markdown",
   "id": "f7a71d5e",
   "metadata": {
    "papermill": {
     "duration": 0.065485,
     "end_time": "2022-04-09T12:52:32.163840",
     "exception": false,
     "start_time": "2022-04-09T12:52:32.098355",
     "status": "completed"
    },
    "tags": []
   },
   "source": [
    "Stanza doesn't give an interface to train a CRF NER model using Stanford NLP, but we can invoke `edu.stanford.nlp.ie.crf.CRFClassifier` directly.\n",
    "\n",
    "Let's write a properties file and invoke Java to run the classifier.\n",
    "It prints a lot of training information, and importantly a summary report at the end which we want to see."
   ]
  },
  {
   "cell_type": "code",
   "execution_count": 25,
   "id": "58df5e85",
   "metadata": {
    "execution": {
     "iopub.execute_input": "2022-04-09T12:52:32.299675Z",
     "iopub.status.busy": "2022-04-09T12:52:32.299007Z",
     "iopub.status.idle": "2022-04-09T12:52:32.305626Z",
     "shell.execute_reply": "2022-04-09T12:52:32.306108Z",
     "shell.execute_reply.started": "2022-04-09T12:35:47.862423Z"
    },
    "papermill": {
     "duration": 0.075114,
     "end_time": "2022-04-09T12:52:32.306280",
     "exception": false,
     "start_time": "2022-04-09T12:52:32.231166",
     "status": "completed"
    },
    "tags": []
   },
   "outputs": [],
   "source": [
    "import subprocess\n",
    "from typing import List\n",
    "\n",
    "def train_model(model_name, train_files: List[str], test_files: List[str], print_report=True, classpath=classpath) -> str:\n",
    "    \"\"\"Trains CRF NER Model using StanfordNLP\"\"\"\n",
    "    model_file = f'{model_name}.model.ser.gz'\n",
    "    ner_prop_filename = f'{model_name}.model.props'\n",
    "    write_ner_prop_file(ner_prop_filename, train_files, test_files, model_file)\n",
    "        \n",
    "    result = subprocess.run(\n",
    "                ['java',\n",
    "                 '-Xmx2g',\n",
    "                 '-cp', classpath,\n",
    "                 'edu.stanford.nlp.ie.crf.CRFClassifier',\n",
    "                 '-prop', ner_prop_filename],\n",
    "                capture_output=True)\n",
    "    \n",
    "    # If there's an error with invocation better log the stacktrace\n",
    "    if result.returncode != 0:\n",
    "        print(result.stderr.decode('utf-8'))\n",
    "    result.check_returncode()\n",
    "    \n",
    "    if print_report:\n",
    "        print(*result.stderr.decode('utf-8').split('\\n')[-11:], sep='\\n')\n",
    "        \n",
    "    return model_file"
   ]
  },
  {
   "cell_type": "markdown",
   "id": "780fff33",
   "metadata": {
    "papermill": {
     "duration": 0.065219,
     "end_time": "2022-04-09T12:52:32.440432",
     "exception": false,
     "start_time": "2022-04-09T12:52:32.375213",
     "status": "completed"
    },
    "tags": []
   },
   "source": [
    "We can train models on each dataset separately, and all together.\n",
    "For evaluation we'll use the corresponding test set.\n",
    "\n",
    "This only takes a few minutes."
   ]
  },
  {
   "cell_type": "code",
   "execution_count": 26,
   "id": "4f153757",
   "metadata": {
    "execution": {
     "iopub.execute_input": "2022-04-09T12:52:32.577628Z",
     "iopub.status.busy": "2022-04-09T12:52:32.577006Z",
     "iopub.status.idle": "2022-04-09T12:54:29.492853Z",
     "shell.execute_reply": "2022-04-09T12:54:29.493613Z",
     "shell.execute_reply.started": "2022-04-09T12:35:53.879459Z"
    },
    "papermill": {
     "duration": 116.985786,
     "end_time": "2022-04-09T12:54:29.493856",
     "exception": false,
     "start_time": "2022-04-09T12:52:32.508070",
     "status": "completed"
    },
    "tags": []
   },
   "outputs": [
    {
     "name": "stdout",
     "output_type": "stream",
     "text": [
      "ar\n",
      "CRFClassifier tagged 2788 words in 483 documents at 8057.80 words per second.\n",
      "         Entity\tP\tR\tF1\tTP\tFP\tFN\n",
      "             DF\t1.0000\t0.9608\t0.9800\t49\t0\t2\n",
      "           NAME\t0.9297\t0.9279\t0.9288\t463\t35\t36\n",
      "       QUANTITY\t1.0000\t0.9962\t0.9981\t522\t0\t2\n",
      "           SIZE\t1.0000\t1.0000\t1.0000\t20\t0\t0\n",
      "          STATE\t0.9601\t0.9633\t0.9617\t289\t12\t11\n",
      "           TEMP\t0.8750\t0.7000\t0.7778\t7\t1\t3\n",
      "           UNIT\t0.9819\t0.9841\t0.9830\t434\t8\t7\n",
      "         Totals\t0.9696\t0.9669\t0.9682\t1784\t56\t61\n",
      "\n",
      "\n",
      "gk\n",
      "CRFClassifier tagged 9886 words in 1705 documents at 10528.22 words per second.\n",
      "         Entity\tP\tR\tF1\tTP\tFP\tFN\n",
      "             DF\t0.9718\t0.9517\t0.9617\t138\t4\t7\n",
      "           NAME\t0.9143\t0.9026\t0.9084\t1622\t152\t175\n",
      "       QUANTITY\t0.9882\t0.9870\t0.9876\t1598\t19\t21\n",
      "           SIZE\t0.9750\t0.9398\t0.9571\t78\t2\t5\n",
      "          STATE\t0.9255\t0.9503\t0.9377\t708\t57\t37\n",
      "           TEMP\t0.8125\t0.8125\t0.8125\t26\t6\t6\n",
      "           UNIT\t0.9810\t0.9729\t0.9769\t1292\t25\t36\n",
      "         Totals\t0.9537\t0.9501\t0.9519\t5462\t265\t287\n",
      "\n",
      "\n",
      "ar_gk\n",
      "CRFClassifier tagged 12674 words in 2188 documents at 12712.14 words per second.\n",
      "         Entity\tP\tR\tF1\tTP\tFP\tFN\n",
      "             DF\t0.9738\t0.9490\t0.9612\t186\t5\t10\n",
      "           NAME\t0.9120\t0.9068\t0.9094\t2082\t201\t214\n",
      "       QUANTITY\t0.9916\t0.9897\t0.9907\t2121\t18\t22\n",
      "           SIZE\t0.9798\t0.9417\t0.9604\t97\t2\t6\n",
      "          STATE\t0.9394\t0.9493\t0.9443\t992\t64\t53\n",
      "           TEMP\t0.8140\t0.8333\t0.8235\t35\t8\t7\n",
      "           UNIT\t0.9801\t0.9757\t0.9779\t1726\t35\t43\n",
      "         Totals\t0.9560\t0.9533\t0.9546\t7239\t333\t355\n",
      "\n",
      "\n",
      "CPU times: user 309 ms, sys: 130 ms, total: 439 ms\n",
      "Wall time: 1min 56s\n"
     ]
    }
   ],
   "source": [
    "%%time\n",
    "\n",
    "models = {}\n",
    "for source in ['ar', 'gk', 'ar_gk']:\n",
    "    print(source)\n",
    "    train_files = [data_filename(s, 'train') for s in source.split('_')]\n",
    "    test_files = [data_filename(s, 'test') for s in source.split('_')]\n",
    "    models[source] = train_model(source, train_files, test_files)\n",
    "    print()"
   ]
  },
  {
   "cell_type": "markdown",
   "id": "2e4d45f6",
   "metadata": {
    "papermill": {
     "duration": 0.066407,
     "end_time": "2022-04-09T12:54:29.629649",
     "exception": false,
     "start_time": "2022-04-09T12:54:29.563242",
     "status": "completed"
    },
    "tags": []
   },
   "source": [
    "The summary report shows for each model and entity type:\n",
    "\n",
    "* True Positives (TP): The number of times that entity was predicted correctly\n",
    "* False Positives (FP): The number of times that entity in the text but not predicted correctly\n",
    "* False Negative (FN): The number of times that entity was not in the text and predicted\n",
    "* Precision (P): Probability a predicted entity is correct, TP/(TP+FP)\n",
    "* Recall (R): Probability a correct entity is predicted, TP/(TP+FN)\n",
    "* F1 Score (F1): Harmonic mean of precision and recall, 2/(1/P + 1/R).\n",
    "\n",
    "We can compare the F1 Totals to the diagonal of Table IV in the paper\n",
    "\n",
    "* AllRecipes.com (ar): We get 0.9682, they report 0.9682\n",
    "* FOOD.com (gk): We get 0.9516, they report 0.9519\n",
    "* Both (ar_gk): We get 0.9551, they report 0.9611\n",
    "\n",
    "These are super close.\n",
    "The furthest is `ar_gk` and in the repository they have a separate `ar_gk_train.tsv`; it would be interesting to check whether using it directly gives a closer result and why there is a difference."
   ]
  },
  {
   "cell_type": "markdown",
   "id": "c9a719e9",
   "metadata": {
    "papermill": {
     "duration": 0.065166,
     "end_time": "2022-04-09T12:54:29.762155",
     "exception": false,
     "start_time": "2022-04-09T12:54:29.696989",
     "status": "completed"
    },
    "tags": []
   },
   "source": [
    "# Running the model in Python"
   ]
  },
  {
   "cell_type": "markdown",
   "id": "0ee95b01",
   "metadata": {
    "papermill": {
     "duration": 0.064967,
     "end_time": "2022-04-09T12:54:29.892654",
     "exception": false,
     "start_time": "2022-04-09T12:54:29.827687",
     "status": "completed"
    },
    "tags": []
   },
   "source": [
    "We can now use these trained models in Python by invoking Stanford NLP with Stanza."
   ]
  },
  {
   "cell_type": "markdown",
   "id": "7b8fe0eb",
   "metadata": {
    "execution": {
     "iopub.execute_input": "2022-04-06T23:58:43.359429Z",
     "iopub.status.busy": "2022-04-06T23:58:43.359055Z",
     "iopub.status.idle": "2022-04-06T23:58:43.365707Z",
     "shell.execute_reply": "2022-04-06T23:58:43.36474Z",
     "shell.execute_reply.started": "2022-04-06T23:58:43.35939Z"
    },
    "papermill": {
     "duration": 0.065574,
     "end_time": "2022-04-09T12:54:30.026061",
     "exception": false,
     "start_time": "2022-04-09T12:54:29.960487",
     "status": "completed"
    },
    "tags": []
   },
   "source": [
    "We can call StanfordNLP with our custom model by passing the property `ner.model`.\n",
    "\n",
    "Our test data is already tokenized in a different way to StanfordNLP, so we'll add an option to the [Tokenizer](https://stanfordnlp.github.io/CoreNLP/tokenize.html) to use whitespace tokenization which is easy to invert.\n",
    "\n",
    "It takes a while to start up the server so we want to annotate a large number of texts at once."
   ]
  },
  {
   "cell_type": "code",
   "execution_count": 27,
   "id": "b03aa77f",
   "metadata": {
    "execution": {
     "iopub.execute_input": "2022-04-09T12:54:30.165695Z",
     "iopub.status.busy": "2022-04-09T12:54:30.165037Z",
     "iopub.status.idle": "2022-04-09T12:54:30.167263Z",
     "shell.execute_reply": "2022-04-09T12:54:30.167723Z",
     "shell.execute_reply.started": "2022-04-09T12:37:59.151340Z"
    },
    "papermill": {
     "duration": 0.075407,
     "end_time": "2022-04-09T12:54:30.167885",
     "exception": false,
     "start_time": "2022-04-09T12:54:30.092478",
     "status": "completed"
    },
    "tags": []
   },
   "outputs": [],
   "source": [
    "from tqdm.notebook import tqdm\n",
    "from stanza.server import CoreNLPClient\n",
    "\n",
    "def annotate_ner(ner_model_file: str, texts: List[str], tokenize_whitespace: bool = True):\n",
    "    properties = {\"ner.model\": ner_model_file, \"tokenize.whitespace\": tokenize_whitespace, \"ner.applyNumericClassifiers\": False}\n",
    "    \n",
    "    annotated = []\n",
    "    with CoreNLPClient(\n",
    "         annotators=['tokenize','ssplit','ner'],\n",
    "         properties=properties,\n",
    "         timeout=30000,\n",
    "         be_quiet=True,\n",
    "        memory='6G') as client:\n",
    "    \n",
    "        for text in tqdm(texts):\n",
    "            annotated.append(client.annotate(text))\n",
    "    return annotated"
   ]
  },
  {
   "cell_type": "markdown",
   "id": "12a859e8",
   "metadata": {
    "papermill": {
     "duration": 0.06547,
     "end_time": "2022-04-09T12:54:30.299240",
     "exception": false,
     "start_time": "2022-04-09T12:54:30.233770",
     "status": "completed"
    },
    "tags": []
   },
   "source": [
    "We can then get the annotations.\n",
    "\n",
    "Note that there's a bit of overhead in starting the server, but then the exmaples are annotated quickly."
   ]
  },
  {
   "cell_type": "code",
   "execution_count": 28,
   "id": "ea5fce88",
   "metadata": {
    "execution": {
     "iopub.execute_input": "2022-04-09T12:54:30.434430Z",
     "iopub.status.busy": "2022-04-09T12:54:30.433812Z",
     "iopub.status.idle": "2022-04-09T12:54:42.655312Z",
     "shell.execute_reply": "2022-04-09T12:54:42.654679Z",
     "shell.execute_reply.started": "2022-04-09T12:38:01.269811Z"
    },
    "papermill": {
     "duration": 12.290039,
     "end_time": "2022-04-09T12:54:42.655447",
     "exception": false,
     "start_time": "2022-04-09T12:54:30.365408",
     "status": "completed"
    },
    "tags": []
   },
   "outputs": [
    {
     "data": {
      "application/vnd.jupyter.widget-view+json": {
       "model_id": "201704c2f8b440438423d79dc37f35af",
       "version_major": 2,
       "version_minor": 0
      },
      "text/plain": [
       "  0%|          | 0/4 [00:00<?, ?it/s]"
      ]
     },
     "metadata": {},
     "output_type": "display_data"
    }
   ],
   "source": [
    "annotations = annotate_ner(models['ar'],\n",
    "                           ['1 cup of frozen peas',\n",
    "                            'A dash of salt . Or to taste',\n",
    "                           '12 slices pancetta -LRB- Italian unsmoked cured bacon -RRB-',\n",
    "                           'pumpkin sliced into 3 cm moons'])"
   ]
  },
  {
   "cell_type": "markdown",
   "id": "bede22a1",
   "metadata": {
    "papermill": {
     "duration": 0.068314,
     "end_time": "2022-04-09T12:54:42.792404",
     "exception": false,
     "start_time": "2022-04-09T12:54:42.724090",
     "status": "completed"
    },
    "tags": []
   },
   "source": [
    "Note here that the word \"Italian\" has ner \"NATIONALITY\", which comes from another model (it wasn't in the training set!).\n",
    "\n",
    "We want to use the `coarseNER`."
   ]
  },
  {
   "cell_type": "code",
   "execution_count": 29,
   "id": "92935f13",
   "metadata": {
    "execution": {
     "iopub.execute_input": "2022-04-09T12:54:42.936986Z",
     "iopub.status.busy": "2022-04-09T12:54:42.936075Z",
     "iopub.status.idle": "2022-04-09T12:54:42.939335Z",
     "shell.execute_reply": "2022-04-09T12:54:42.939908Z",
     "shell.execute_reply.started": "2022-04-09T12:38:34.199553Z"
    },
    "papermill": {
     "duration": 0.078353,
     "end_time": "2022-04-09T12:54:42.940072",
     "exception": false,
     "start_time": "2022-04-09T12:54:42.861719",
     "status": "completed"
    },
    "tags": []
   },
   "outputs": [
    {
     "data": {
      "text/plain": [
       "word: \"Italian\"\n",
       "pos: \"JJ\"\n",
       "value: \"Italian\"\n",
       "originalText: \"Italian\"\n",
       "ner: \"NATIONALITY\"\n",
       "lemma: \"italian\"\n",
       "beginChar: 25\n",
       "endChar: 32\n",
       "tokenBeginIndex: 4\n",
       "tokenEndIndex: 5\n",
       "hasXmlContext: false\n",
       "isNewline: false\n",
       "coarseNER: \"O\"\n",
       "fineGrainedNER: \"NATIONALITY\"\n",
       "entityMentionIndex: 3\n",
       "nerLabelProbs: \"O=0.870902471545891\""
      ]
     },
     "execution_count": 29,
     "metadata": {},
     "output_type": "execute_result"
    }
   ],
   "source": [
    "annotations[2].sentence[0].token[4]"
   ]
  },
  {
   "cell_type": "markdown",
   "id": "e30db7c4",
   "metadata": {
    "papermill": {
     "duration": 0.074392,
     "end_time": "2022-04-09T12:54:43.087424",
     "exception": false,
     "start_time": "2022-04-09T12:54:43.013032",
     "status": "completed"
    },
    "tags": []
   },
   "source": [
    "When I didn't set `\"ner.applyNumericClassifiers\": False` this would come up as a `NUMBER`."
   ]
  },
  {
   "cell_type": "code",
   "execution_count": 30,
   "id": "a4e3a712",
   "metadata": {
    "execution": {
     "iopub.execute_input": "2022-04-09T12:54:43.246043Z",
     "iopub.status.busy": "2022-04-09T12:54:43.245357Z",
     "iopub.status.idle": "2022-04-09T12:54:43.247973Z",
     "shell.execute_reply": "2022-04-09T12:54:43.248528Z",
     "shell.execute_reply.started": "2022-04-09T12:38:36.001391Z"
    },
    "papermill": {
     "duration": 0.087266,
     "end_time": "2022-04-09T12:54:43.248708",
     "exception": false,
     "start_time": "2022-04-09T12:54:43.161442",
     "status": "completed"
    },
    "tags": []
   },
   "outputs": [
    {
     "data": {
      "text/plain": [
       "word: \"3\"\n",
       "pos: \"CD\"\n",
       "value: \"3\"\n",
       "originalText: \"3\"\n",
       "ner: \"O\"\n",
       "lemma: \"3\"\n",
       "beginChar: 20\n",
       "endChar: 21\n",
       "tokenBeginIndex: 3\n",
       "tokenEndIndex: 4\n",
       "hasXmlContext: false\n",
       "isNewline: false\n",
       "coarseNER: \"O\"\n",
       "fineGrainedNER: \"O\"\n",
       "nerLabelProbs: \"O=0.8599887537555505\""
      ]
     },
     "execution_count": 30,
     "metadata": {},
     "output_type": "execute_result"
    }
   ],
   "source": [
    "annotations[3].sentence[0].token[3]"
   ]
  },
  {
   "cell_type": "markdown",
   "id": "395fd1f3",
   "metadata": {
    "papermill": {
     "duration": 0.07342,
     "end_time": "2022-04-09T12:54:43.392244",
     "exception": false,
     "start_time": "2022-04-09T12:54:43.318824",
     "status": "completed"
    },
    "tags": []
   },
   "source": [
    "We can then flatten the sentences and extract the NER tokens"
   ]
  },
  {
   "cell_type": "code",
   "execution_count": 31,
   "id": "62ba34da",
   "metadata": {
    "execution": {
     "iopub.execute_input": "2022-04-09T12:54:43.544813Z",
     "iopub.status.busy": "2022-04-09T12:54:43.540079Z",
     "iopub.status.idle": "2022-04-09T12:54:43.547273Z",
     "shell.execute_reply": "2022-04-09T12:54:43.547864Z",
     "shell.execute_reply.started": "2022-04-09T12:38:40.341766Z"
    },
    "papermill": {
     "duration": 0.083306,
     "end_time": "2022-04-09T12:54:43.548071",
     "exception": false,
     "start_time": "2022-04-09T12:54:43.464765",
     "status": "completed"
    },
    "tags": []
   },
   "outputs": [],
   "source": [
    "from dataclasses import dataclass, asdict\n",
    "\n",
    "@dataclass\n",
    "class NERData:\n",
    "    ner: List[str]\n",
    "    tokens: List[str]\n",
    "        \n",
    "    # Let's use Pandas to make it pretty in a notebook\n",
    "    def _repr_html_(self):\n",
    "        return pd.DataFrame(asdict(self)).T._repr_html_()\n",
    "\n",
    "def extract_ner_data(annotation) -> NERData:\n",
    "    tokens = [token for sentence in annotation.sentence for token in sentence.token]\n",
    "    return NERData(tokens=[t.word for t in tokens], ner=[t.coarseNER for t in tokens])"
   ]
  },
  {
   "cell_type": "markdown",
   "id": "9c2af244",
   "metadata": {
    "papermill": {
     "duration": 0.071701,
     "end_time": "2022-04-09T12:54:43.692060",
     "exception": false,
     "start_time": "2022-04-09T12:54:43.620359",
     "status": "completed"
    },
    "tags": []
   },
   "source": [
    "A relatively simple ingredient works well"
   ]
  },
  {
   "cell_type": "code",
   "execution_count": 32,
   "id": "4c8459ed",
   "metadata": {
    "execution": {
     "iopub.execute_input": "2022-04-09T12:54:43.838708Z",
     "iopub.status.busy": "2022-04-09T12:54:43.837976Z",
     "iopub.status.idle": "2022-04-09T12:54:43.848626Z",
     "shell.execute_reply": "2022-04-09T12:54:43.849201Z",
     "shell.execute_reply.started": "2022-04-09T12:38:42.046585Z"
    },
    "papermill": {
     "duration": 0.0869,
     "end_time": "2022-04-09T12:54:43.849408",
     "exception": false,
     "start_time": "2022-04-09T12:54:43.762508",
     "status": "completed"
    },
    "tags": []
   },
   "outputs": [
    {
     "data": {
      "text/html": [
       "<div>\n",
       "<style scoped>\n",
       "    .dataframe tbody tr th:only-of-type {\n",
       "        vertical-align: middle;\n",
       "    }\n",
       "\n",
       "    .dataframe tbody tr th {\n",
       "        vertical-align: top;\n",
       "    }\n",
       "\n",
       "    .dataframe thead th {\n",
       "        text-align: right;\n",
       "    }\n",
       "</style>\n",
       "<table border=\"1\" class=\"dataframe\">\n",
       "  <thead>\n",
       "    <tr style=\"text-align: right;\">\n",
       "      <th></th>\n",
       "      <th>0</th>\n",
       "      <th>1</th>\n",
       "      <th>2</th>\n",
       "      <th>3</th>\n",
       "      <th>4</th>\n",
       "    </tr>\n",
       "  </thead>\n",
       "  <tbody>\n",
       "    <tr>\n",
       "      <th>ner</th>\n",
       "      <td>QUANTITY</td>\n",
       "      <td>UNIT</td>\n",
       "      <td>O</td>\n",
       "      <td>TEMP</td>\n",
       "      <td>NAME</td>\n",
       "    </tr>\n",
       "    <tr>\n",
       "      <th>tokens</th>\n",
       "      <td>1</td>\n",
       "      <td>cup</td>\n",
       "      <td>of</td>\n",
       "      <td>frozen</td>\n",
       "      <td>peas</td>\n",
       "    </tr>\n",
       "  </tbody>\n",
       "</table>\n",
       "</div>"
      ],
      "text/plain": [
       "NERData(ner=['QUANTITY', 'UNIT', 'O', 'TEMP', 'NAME'], tokens=['1', 'cup', 'of', 'frozen', 'peas'])"
      ]
     },
     "execution_count": 32,
     "metadata": {},
     "output_type": "execute_result"
    }
   ],
   "source": [
    "extract_ner_data(annotations[0])"
   ]
  },
  {
   "cell_type": "markdown",
   "id": "f2f641c3",
   "metadata": {
    "papermill": {
     "duration": 0.069696,
     "end_time": "2022-04-09T12:54:43.997728",
     "exception": false,
     "start_time": "2022-04-09T12:54:43.928032",
     "status": "completed"
    },
    "tags": []
   },
   "source": [
    "A more complex sentence does quite badly, perhaps because this kind of thing wasn't seen."
   ]
  },
  {
   "cell_type": "code",
   "execution_count": 33,
   "id": "4cced42d",
   "metadata": {
    "execution": {
     "iopub.execute_input": "2022-04-09T12:54:44.140810Z",
     "iopub.status.busy": "2022-04-09T12:54:44.140063Z",
     "iopub.status.idle": "2022-04-09T12:54:44.149736Z",
     "shell.execute_reply": "2022-04-09T12:54:44.150450Z",
     "shell.execute_reply.started": "2022-04-09T12:38:43.622146Z"
    },
    "papermill": {
     "duration": 0.084653,
     "end_time": "2022-04-09T12:54:44.150680",
     "exception": false,
     "start_time": "2022-04-09T12:54:44.066027",
     "status": "completed"
    },
    "tags": []
   },
   "outputs": [
    {
     "data": {
      "text/html": [
       "<div>\n",
       "<style scoped>\n",
       "    .dataframe tbody tr th:only-of-type {\n",
       "        vertical-align: middle;\n",
       "    }\n",
       "\n",
       "    .dataframe tbody tr th {\n",
       "        vertical-align: top;\n",
       "    }\n",
       "\n",
       "    .dataframe thead th {\n",
       "        text-align: right;\n",
       "    }\n",
       "</style>\n",
       "<table border=\"1\" class=\"dataframe\">\n",
       "  <thead>\n",
       "    <tr style=\"text-align: right;\">\n",
       "      <th></th>\n",
       "      <th>0</th>\n",
       "      <th>1</th>\n",
       "      <th>2</th>\n",
       "      <th>3</th>\n",
       "      <th>4</th>\n",
       "      <th>5</th>\n",
       "      <th>6</th>\n",
       "      <th>7</th>\n",
       "    </tr>\n",
       "  </thead>\n",
       "  <tbody>\n",
       "    <tr>\n",
       "      <th>ner</th>\n",
       "      <td>QUANTITY</td>\n",
       "      <td>UNIT</td>\n",
       "      <td>NAME</td>\n",
       "      <td>NAME</td>\n",
       "      <td>NAME</td>\n",
       "      <td>NAME</td>\n",
       "      <td>O</td>\n",
       "      <td>O</td>\n",
       "    </tr>\n",
       "    <tr>\n",
       "      <th>tokens</th>\n",
       "      <td>A</td>\n",
       "      <td>dash</td>\n",
       "      <td>of</td>\n",
       "      <td>salt</td>\n",
       "      <td>.</td>\n",
       "      <td>Or</td>\n",
       "      <td>to</td>\n",
       "      <td>taste</td>\n",
       "    </tr>\n",
       "  </tbody>\n",
       "</table>\n",
       "</div>"
      ],
      "text/plain": [
       "NERData(ner=['QUANTITY', 'UNIT', 'NAME', 'NAME', 'NAME', 'NAME', 'O', 'O'], tokens=['A', 'dash', 'of', 'salt', '.', 'Or', 'to', 'taste'])"
      ]
     },
     "execution_count": 33,
     "metadata": {},
     "output_type": "execute_result"
    }
   ],
   "source": [
    "extract_ner_data(annotations[1])"
   ]
  },
  {
   "cell_type": "code",
   "execution_count": 34,
   "id": "4876816d",
   "metadata": {
    "execution": {
     "iopub.execute_input": "2022-04-09T12:54:44.296529Z",
     "iopub.status.busy": "2022-04-09T12:54:44.295869Z",
     "iopub.status.idle": "2022-04-09T12:54:44.304556Z",
     "shell.execute_reply": "2022-04-09T12:54:44.305005Z",
     "shell.execute_reply.started": "2022-04-09T12:38:45.941598Z"
    },
    "papermill": {
     "duration": 0.082881,
     "end_time": "2022-04-09T12:54:44.305179",
     "exception": false,
     "start_time": "2022-04-09T12:54:44.222298",
     "status": "completed"
    },
    "tags": []
   },
   "outputs": [
    {
     "data": {
      "text/html": [
       "<div>\n",
       "<style scoped>\n",
       "    .dataframe tbody tr th:only-of-type {\n",
       "        vertical-align: middle;\n",
       "    }\n",
       "\n",
       "    .dataframe tbody tr th {\n",
       "        vertical-align: top;\n",
       "    }\n",
       "\n",
       "    .dataframe thead th {\n",
       "        text-align: right;\n",
       "    }\n",
       "</style>\n",
       "<table border=\"1\" class=\"dataframe\">\n",
       "  <thead>\n",
       "    <tr style=\"text-align: right;\">\n",
       "      <th></th>\n",
       "      <th>0</th>\n",
       "      <th>1</th>\n",
       "      <th>2</th>\n",
       "      <th>3</th>\n",
       "      <th>4</th>\n",
       "      <th>5</th>\n",
       "      <th>6</th>\n",
       "      <th>7</th>\n",
       "      <th>8</th>\n",
       "    </tr>\n",
       "  </thead>\n",
       "  <tbody>\n",
       "    <tr>\n",
       "      <th>ner</th>\n",
       "      <td>QUANTITY</td>\n",
       "      <td>UNIT</td>\n",
       "      <td>NAME</td>\n",
       "      <td>O</td>\n",
       "      <td>O</td>\n",
       "      <td>O</td>\n",
       "      <td>O</td>\n",
       "      <td>O</td>\n",
       "      <td>O</td>\n",
       "    </tr>\n",
       "    <tr>\n",
       "      <th>tokens</th>\n",
       "      <td>12</td>\n",
       "      <td>slices</td>\n",
       "      <td>pancetta</td>\n",
       "      <td>-LRB-</td>\n",
       "      <td>Italian</td>\n",
       "      <td>unsmoked</td>\n",
       "      <td>cured</td>\n",
       "      <td>bacon</td>\n",
       "      <td>-RRB-</td>\n",
       "    </tr>\n",
       "  </tbody>\n",
       "</table>\n",
       "</div>"
      ],
      "text/plain": [
       "NERData(ner=['QUANTITY', 'UNIT', 'NAME', 'O', 'O', 'O', 'O', 'O', 'O'], tokens=['12', 'slices', 'pancetta', '-LRB-', 'Italian', 'unsmoked', 'cured', 'bacon', '-RRB-'])"
      ]
     },
     "execution_count": 34,
     "metadata": {},
     "output_type": "execute_result"
    }
   ],
   "source": [
    "extract_ner_data(annotations[2])"
   ]
  },
  {
   "cell_type": "markdown",
   "id": "922b8aea",
   "metadata": {
    "papermill": {
     "duration": 0.068424,
     "end_time": "2022-04-09T12:54:44.443907",
     "exception": false,
     "start_time": "2022-04-09T12:54:44.375483",
     "status": "completed"
    },
    "tags": []
   },
   "source": [
    "We can chain these functions together to get from text to NER"
   ]
  },
  {
   "cell_type": "code",
   "execution_count": 35,
   "id": "c739313d",
   "metadata": {
    "execution": {
     "iopub.execute_input": "2022-04-09T12:54:44.587767Z",
     "iopub.status.busy": "2022-04-09T12:54:44.584755Z",
     "iopub.status.idle": "2022-04-09T12:54:44.590500Z",
     "shell.execute_reply": "2022-04-09T12:54:44.590022Z",
     "shell.execute_reply.started": "2022-04-09T12:38:46.829223Z"
    },
    "papermill": {
     "duration": 0.077328,
     "end_time": "2022-04-09T12:54:44.590658",
     "exception": false,
     "start_time": "2022-04-09T12:54:44.513330",
     "status": "completed"
    },
    "tags": []
   },
   "outputs": [],
   "source": [
    "from typing import Dict\n",
    "\n",
    "def ner_extract(ner_model_file: str, texts: List[str], tokenize_whitespace: bool = True) -> List[Dict[str, List[str]]]:\n",
    "    annotations = annotate_ner(ner_model_file, texts, tokenize_whitespace)\n",
    "    return [extract_ner_data(ann) for ann in annotations]"
   ]
  },
  {
   "cell_type": "markdown",
   "id": "b436f5ae",
   "metadata": {
    "papermill": {
     "duration": 0.072331,
     "end_time": "2022-04-09T12:54:44.732812",
     "exception": false,
     "start_time": "2022-04-09T12:54:44.660481",
     "status": "completed"
    },
    "tags": []
   },
   "source": [
    "And then for each model, and test data we can calculate the predictions.\n",
    "\n",
    "Let's convert into a list of list of (token, label) tuples.\n",
    "(There are simpler ways to do it, but this is how I originally processed the data.)"
   ]
  },
  {
   "cell_type": "code",
   "execution_count": 36,
   "id": "5f1ee48e",
   "metadata": {
    "execution": {
     "iopub.execute_input": "2022-04-09T12:54:44.877531Z",
     "iopub.status.busy": "2022-04-09T12:54:44.876906Z",
     "iopub.status.idle": "2022-04-09T12:54:44.942925Z",
     "shell.execute_reply": "2022-04-09T12:54:44.943489Z",
     "shell.execute_reply.started": "2022-04-09T12:43:29.774308Z"
    },
    "papermill": {
     "duration": 0.140255,
     "end_time": "2022-04-09T12:54:44.943668",
     "exception": false,
     "start_time": "2022-04-09T12:54:44.803413",
     "status": "completed"
    },
    "tags": []
   },
   "outputs": [
    {
     "data": {
      "text/html": [
       "<div>\n",
       "<style scoped>\n",
       "    .dataframe tbody tr th:only-of-type {\n",
       "        vertical-align: middle;\n",
       "    }\n",
       "\n",
       "    .dataframe tbody tr th {\n",
       "        vertical-align: top;\n",
       "    }\n",
       "\n",
       "    .dataframe thead th {\n",
       "        text-align: right;\n",
       "    }\n",
       "</style>\n",
       "<table border=\"1\" class=\"dataframe\">\n",
       "  <thead>\n",
       "    <tr style=\"text-align: right;\">\n",
       "      <th></th>\n",
       "      <th></th>\n",
       "      <th>token</th>\n",
       "      <th>label</th>\n",
       "    </tr>\n",
       "    <tr>\n",
       "      <th>source</th>\n",
       "      <th>ingredient_id</th>\n",
       "      <th></th>\n",
       "      <th></th>\n",
       "    </tr>\n",
       "  </thead>\n",
       "  <tbody>\n",
       "    <tr>\n",
       "      <th rowspan=\"5\" valign=\"top\">ar</th>\n",
       "      <th>0</th>\n",
       "      <td>[1/2, large, sweet, red, onion, ,, thinly, sli...</td>\n",
       "      <td>[QUANTITY, SIZE, NAME, NAME, NAME, O, O, STATE]</td>\n",
       "    </tr>\n",
       "    <tr>\n",
       "      <th>1</th>\n",
       "      <td>[6, ounces, fresh, mushrooms, ,, sliced]</td>\n",
       "      <td>[QUANTITY, UNIT, DF, NAME, O, STATE]</td>\n",
       "    </tr>\n",
       "    <tr>\n",
       "      <th>2</th>\n",
       "      <td>[4, corn, tortillas]</td>\n",
       "      <td>[QUANTITY, NAME, NAME]</td>\n",
       "    </tr>\n",
       "    <tr>\n",
       "      <th>3</th>\n",
       "      <td>[1, -LRB-, 9, ounce, -RRB-, package, refrigera...</td>\n",
       "      <td>[QUANTITY, O, QUANTITY, UNIT, O, UNIT, DF, NAM...</td>\n",
       "    </tr>\n",
       "    <tr>\n",
       "      <th>4</th>\n",
       "      <td>[2, tablespoons, chopped, fresh, basil, leaves]</td>\n",
       "      <td>[QUANTITY, UNIT, STATE, DF, NAME, NAME]</td>\n",
       "    </tr>\n",
       "    <tr>\n",
       "      <th>...</th>\n",
       "      <th>...</th>\n",
       "      <td>...</td>\n",
       "      <td>...</td>\n",
       "    </tr>\n",
       "    <tr>\n",
       "      <th rowspan=\"5\" valign=\"top\">gk</th>\n",
       "      <th>1700</th>\n",
       "      <td>[3/4, lb, powdered, sugar, -LRB-, Add, more, i...</td>\n",
       "      <td>[QUANTITY, UNIT, STATE, NAME, O, O, O, O, O, O...</td>\n",
       "    </tr>\n",
       "    <tr>\n",
       "      <th>1701</th>\n",
       "      <td>[1, teaspoon, tender, thyme, leaves]</td>\n",
       "      <td>[QUANTITY, UNIT, NAME, NAME, NAME]</td>\n",
       "    </tr>\n",
       "    <tr>\n",
       "      <th>1702</th>\n",
       "      <td>[1, tablespoon, chopped, fresh, parsley, leaves]</td>\n",
       "      <td>[QUANTITY, UNIT, STATE, DF, NAME, NAME]</td>\n",
       "    </tr>\n",
       "    <tr>\n",
       "      <th>1703</th>\n",
       "      <td>[1, cup, Russian, salad, dressing, -LRB-, bott...</td>\n",
       "      <td>[QUANTITY, UNIT, NAME, NAME, O, O, O, O, O, O, O]</td>\n",
       "    </tr>\n",
       "    <tr>\n",
       "      <th>1704</th>\n",
       "      <td>[1, sprig, celery, leaves]</td>\n",
       "      <td>[QUANTITY, O, NAME, NAME]</td>\n",
       "    </tr>\n",
       "  </tbody>\n",
       "</table>\n",
       "<p>2188 rows × 2 columns</p>\n",
       "</div>"
      ],
      "text/plain": [
       "                                                                  token  \\\n",
       "source ingredient_id                                                      \n",
       "ar     0              [1/2, large, sweet, red, onion, ,, thinly, sli...   \n",
       "       1                       [6, ounces, fresh, mushrooms, ,, sliced]   \n",
       "       2                                           [4, corn, tortillas]   \n",
       "       3              [1, -LRB-, 9, ounce, -RRB-, package, refrigera...   \n",
       "       4                [2, tablespoons, chopped, fresh, basil, leaves]   \n",
       "...                                                                 ...   \n",
       "gk     1700           [3/4, lb, powdered, sugar, -LRB-, Add, more, i...   \n",
       "       1701                        [1, teaspoon, tender, thyme, leaves]   \n",
       "       1702            [1, tablespoon, chopped, fresh, parsley, leaves]   \n",
       "       1703           [1, cup, Russian, salad, dressing, -LRB-, bott...   \n",
       "       1704                                  [1, sprig, celery, leaves]   \n",
       "\n",
       "                                                                  label  \n",
       "source ingredient_id                                                     \n",
       "ar     0                [QUANTITY, SIZE, NAME, NAME, NAME, O, O, STATE]  \n",
       "       1                           [QUANTITY, UNIT, DF, NAME, O, STATE]  \n",
       "       2                                         [QUANTITY, NAME, NAME]  \n",
       "       3              [QUANTITY, O, QUANTITY, UNIT, O, UNIT, DF, NAM...  \n",
       "       4                        [QUANTITY, UNIT, STATE, DF, NAME, NAME]  \n",
       "...                                                                 ...  \n",
       "gk     1700           [QUANTITY, UNIT, STATE, NAME, O, O, O, O, O, O...  \n",
       "       1701                          [QUANTITY, UNIT, NAME, NAME, NAME]  \n",
       "       1702                     [QUANTITY, UNIT, STATE, DF, NAME, NAME]  \n",
       "       1703           [QUANTITY, UNIT, NAME, NAME, O, O, O, O, O, O, O]  \n",
       "       1704                                   [QUANTITY, O, NAME, NAME]  \n",
       "\n",
       "[2188 rows x 2 columns]"
      ]
     },
     "execution_count": 36,
     "metadata": {},
     "output_type": "execute_result"
    }
   ],
   "source": [
    "df_test_short = df_test.groupby(['source', 'ingredient_id']).agg(token=('token', list), label=('label', list))\n",
    "df_test_short"
   ]
  },
  {
   "cell_type": "code",
   "execution_count": 37,
   "id": "7be624a7",
   "metadata": {
    "execution": {
     "iopub.execute_input": "2022-04-09T12:54:45.086752Z",
     "iopub.status.busy": "2022-04-09T12:54:45.086126Z",
     "iopub.status.idle": "2022-04-09T12:54:45.189938Z",
     "shell.execute_reply": "2022-04-09T12:54:45.190387Z",
     "shell.execute_reply.started": "2022-04-09T12:43:30.393656Z"
    },
    "papermill": {
     "duration": 0.178311,
     "end_time": "2022-04-09T12:54:45.190568",
     "exception": false,
     "start_time": "2022-04-09T12:54:45.012257",
     "status": "completed"
    },
    "tags": []
   },
   "outputs": [],
   "source": [
    "test_data = {'ar': [], 'gk': []}\n",
    "for (source, idx), row in df_test_short.iterrows():\n",
    "    test_data[source].append(list(zip(*row)))"
   ]
  },
  {
   "cell_type": "code",
   "execution_count": 38,
   "id": "2664738b",
   "metadata": {
    "execution": {
     "iopub.execute_input": "2022-04-09T12:54:45.335224Z",
     "iopub.status.busy": "2022-04-09T12:54:45.334651Z",
     "iopub.status.idle": "2022-04-09T12:54:45.339987Z",
     "shell.execute_reply": "2022-04-09T12:54:45.340388Z",
     "shell.execute_reply.started": "2022-04-09T12:43:32.278767Z"
    },
    "papermill": {
     "duration": 0.079831,
     "end_time": "2022-04-09T12:54:45.340556",
     "exception": false,
     "start_time": "2022-04-09T12:54:45.260725",
     "status": "completed"
    },
    "tags": []
   },
   "outputs": [
    {
     "data": {
      "text/plain": [
       "[[('1/2', 'QUANTITY'),\n",
       "  ('large', 'SIZE'),\n",
       "  ('sweet', 'NAME'),\n",
       "  ('red', 'NAME'),\n",
       "  ('onion', 'NAME'),\n",
       "  (',', 'O'),\n",
       "  ('thinly', 'O'),\n",
       "  ('sliced', 'STATE')],\n",
       " [('6', 'QUANTITY'),\n",
       "  ('ounces', 'UNIT'),\n",
       "  ('fresh', 'DF'),\n",
       "  ('mushrooms', 'NAME'),\n",
       "  (',', 'O'),\n",
       "  ('sliced', 'STATE')]]"
      ]
     },
     "execution_count": 38,
     "metadata": {},
     "output_type": "execute_result"
    }
   ],
   "source": [
    "test_data['ar'][:2]"
   ]
  },
  {
   "cell_type": "markdown",
   "id": "3d767d78",
   "metadata": {
    "papermill": {
     "duration": 0.072682,
     "end_time": "2022-04-09T12:54:45.483538",
     "exception": false,
     "start_time": "2022-04-09T12:54:45.410856",
     "status": "completed"
    },
    "tags": []
   },
   "source": [
    "Then we can run predictions over it."
   ]
  },
  {
   "cell_type": "code",
   "execution_count": 39,
   "id": "f8822977",
   "metadata": {
    "execution": {
     "iopub.execute_input": "2022-04-09T12:54:45.629525Z",
     "iopub.status.busy": "2022-04-09T12:54:45.628930Z",
     "iopub.status.idle": "2022-04-09T12:58:37.786569Z",
     "shell.execute_reply": "2022-04-09T12:58:37.785941Z",
     "shell.execute_reply.started": "2022-04-09T12:44:17.500301Z"
    },
    "papermill": {
     "duration": 232.232774,
     "end_time": "2022-04-09T12:58:37.786895",
     "exception": false,
     "start_time": "2022-04-09T12:54:45.554121",
     "status": "completed"
    },
    "tags": []
   },
   "outputs": [
    {
     "data": {
      "application/vnd.jupyter.widget-view+json": {
       "model_id": "d6663f70b4a04e23b94c0a4b422e7469",
       "version_major": 2,
       "version_minor": 0
      },
      "text/plain": [
       "  0%|          | 0/483 [00:00<?, ?it/s]"
      ]
     },
     "metadata": {},
     "output_type": "display_data"
    },
    {
     "data": {
      "application/vnd.jupyter.widget-view+json": {
       "model_id": "382ff55e53df4302ad85293cfe039359",
       "version_major": 2,
       "version_minor": 0
      },
      "text/plain": [
       "  0%|          | 0/1705 [00:00<?, ?it/s]"
      ]
     },
     "metadata": {},
     "output_type": "display_data"
    },
    {
     "data": {
      "application/vnd.jupyter.widget-view+json": {
       "model_id": "ad2aba4e09794a73b51f9a554257c35d",
       "version_major": 2,
       "version_minor": 0
      },
      "text/plain": [
       "  0%|          | 0/483 [00:00<?, ?it/s]"
      ]
     },
     "metadata": {},
     "output_type": "display_data"
    },
    {
     "data": {
      "application/vnd.jupyter.widget-view+json": {
       "model_id": "3b4a39e4e0e84afd90452371017e7398",
       "version_major": 2,
       "version_minor": 0
      },
      "text/plain": [
       "  0%|          | 0/1705 [00:00<?, ?it/s]"
      ]
     },
     "metadata": {},
     "output_type": "display_data"
    },
    {
     "data": {
      "application/vnd.jupyter.widget-view+json": {
       "model_id": "58bfcbca0f3d41a78499bb22edc07bd9",
       "version_major": 2,
       "version_minor": 0
      },
      "text/plain": [
       "  0%|          | 0/483 [00:00<?, ?it/s]"
      ]
     },
     "metadata": {},
     "output_type": "display_data"
    },
    {
     "data": {
      "application/vnd.jupyter.widget-view+json": {
       "model_id": "92f3f79c50af4542b281d2f2157ca1e6",
       "version_major": 2,
       "version_minor": 0
      },
      "text/plain": [
       "  0%|          | 0/1705 [00:00<?, ?it/s]"
      ]
     },
     "metadata": {},
     "output_type": "display_data"
    }
   ],
   "source": [
    "preds = {}\n",
    "for model, modelfile in models.items():\n",
    "    preds[model] = {}\n",
    "    for test_source, token_data in test_data.items():\n",
    "        texts = [' '.join([x[0] for x in text]) for text in token_data]\n",
    "        preds[model][test_source] = ner_extract(modelfile, texts)"
   ]
  },
  {
   "cell_type": "markdown",
   "id": "92da5783",
   "metadata": {
    "papermill": {
     "duration": 0.071698,
     "end_time": "2022-04-09T12:58:37.932026",
     "exception": false,
     "start_time": "2022-04-09T12:58:37.860328",
     "status": "completed"
    },
    "tags": []
   },
   "source": [
    "## Sanity checks\n",
    "\n",
    "Let's check the same tokens come through the model as were input"
   ]
  },
  {
   "cell_type": "code",
   "execution_count": 40,
   "id": "db473d78",
   "metadata": {
    "execution": {
     "iopub.execute_input": "2022-04-09T12:58:38.088809Z",
     "iopub.status.busy": "2022-04-09T12:58:38.086128Z",
     "iopub.status.idle": "2022-04-09T12:58:38.092311Z",
     "shell.execute_reply": "2022-04-09T12:58:38.091848Z",
     "shell.execute_reply.started": "2022-04-09T12:49:50.196560Z"
    },
    "papermill": {
     "duration": 0.087668,
     "end_time": "2022-04-09T12:58:38.092446",
     "exception": false,
     "start_time": "2022-04-09T12:58:38.004778",
     "status": "completed"
    },
    "tags": []
   },
   "outputs": [],
   "source": [
    "for test_source, token_data in test_data.items():\n",
    "    tokens = [[x[0] for x in tokens] for tokens in token_data]\n",
    "    \n",
    "    for model in models:\n",
    "        model_preds = preds[model][test_source]\n",
    "        \n",
    "        model_tokens = [p.tokens for p in model_preds]\n",
    "        \n",
    "        if tokens != model_tokens:\n",
    "            raise ValueError(\"Tokenization issue in %s with model %s\" % (test_source, model))"
   ]
  },
  {
   "cell_type": "markdown",
   "id": "dca08702",
   "metadata": {
    "papermill": {
     "duration": 0.073373,
     "end_time": "2022-04-09T12:58:38.239498",
     "exception": false,
     "start_time": "2022-04-09T12:58:38.166125",
     "status": "completed"
    },
    "tags": []
   },
   "source": [
    "# Evaluating\n",
    "\n",
    "Now that we have predictions we can evaulate with [seqeval](https://github.com/chakki-works/seqeval)."
   ]
  },
  {
   "cell_type": "code",
   "execution_count": 41,
   "id": "cefe1088",
   "metadata": {
    "execution": {
     "iopub.execute_input": "2022-04-09T12:58:38.395619Z",
     "iopub.status.busy": "2022-04-09T12:58:38.387382Z",
     "iopub.status.idle": "2022-04-09T12:58:50.815126Z",
     "shell.execute_reply": "2022-04-09T12:58:50.814579Z",
     "shell.execute_reply.started": "2022-04-09T12:49:51.562466Z"
    },
    "papermill": {
     "duration": 12.504191,
     "end_time": "2022-04-09T12:58:50.815271",
     "exception": false,
     "start_time": "2022-04-09T12:58:38.311080",
     "status": "completed"
    },
    "tags": []
   },
   "outputs": [
    {
     "name": "stdout",
     "output_type": "stream",
     "text": [
      "Collecting seqeval\r\n",
      "  Downloading seqeval-1.2.2.tar.gz (43 kB)\r\n",
      "     |████████████████████████████████| 43 kB 658 kB/s             \r\n",
      "\u001b[?25h  Preparing metadata (setup.py) ... \u001b[?25l-\b \bdone\r\n",
      "\u001b[?25hRequirement already satisfied: numpy>=1.14.0 in /opt/conda/lib/python3.7/site-packages (from seqeval) (1.20.3)\r\n",
      "Requirement already satisfied: scikit-learn>=0.21.3 in /opt/conda/lib/python3.7/site-packages (from seqeval) (1.0.1)\r\n",
      "Requirement already satisfied: joblib>=0.11 in /opt/conda/lib/python3.7/site-packages (from scikit-learn>=0.21.3->seqeval) (1.1.0)\r\n",
      "Requirement already satisfied: scipy>=1.1.0 in /opt/conda/lib/python3.7/site-packages (from scikit-learn>=0.21.3->seqeval) (1.7.3)\r\n",
      "Requirement already satisfied: threadpoolctl>=2.0.0 in /opt/conda/lib/python3.7/site-packages (from scikit-learn>=0.21.3->seqeval) (3.0.0)\r\n",
      "Building wheels for collected packages: seqeval\r\n",
      "  Building wheel for seqeval (setup.py) ... \u001b[?25l-\b \b\\\b \b|\b \bdone\r\n",
      "\u001b[?25h  Created wheel for seqeval: filename=seqeval-1.2.2-py3-none-any.whl size=16181 sha256=f3610baed1cfe8ba6f307fcc0229689e77e52f28c1a58bb10ec9b7ee6a65b75e\r\n",
      "  Stored in directory: /root/.cache/pip/wheels/05/96/ee/7cac4e74f3b19e3158dce26a20a1c86b3533c43ec72a549fd7\r\n",
      "Successfully built seqeval\r\n",
      "Installing collected packages: seqeval\r\n",
      "Successfully installed seqeval-1.2.2\r\n",
      "\u001b[33mWARNING: Running pip as the 'root' user can result in broken permissions and conflicting behaviour with the system package manager. It is recommended to use a virtual environment instead: https://pip.pypa.io/warnings/venv\u001b[0m\r\n"
     ]
    }
   ],
   "source": [
    "!pip install seqeval"
   ]
  },
  {
   "cell_type": "markdown",
   "id": "ff412c8d",
   "metadata": {
    "papermill": {
     "duration": 0.075851,
     "end_time": "2022-04-09T12:58:50.966177",
     "exception": false,
     "start_time": "2022-04-09T12:58:50.890326",
     "status": "completed"
    },
    "tags": []
   },
   "source": [
    "Seqeval expects the data to be in one of the following formats:\n",
    "\n",
    "* IOB1\n",
    "* IOB2\n",
    "* IOE1\n",
    "* IOE2\n",
    "* IOBES(only in strict mode)\n",
    "* BILOU(only in strict mode)\n",
    "\n",
    "These all become important when trying to distinguish distinct entities that are adjacent; these are quite rare in practice.\n",
    "See Wikipedia for a detailed explanation of [IOB (inside-outside-beginning)](https://en.wikipedia.org/wiki/Inside%E2%80%93outside%E2%80%93beginning_(tagging)).\n",
    "\n",
    "In this case it's assumed there's only one entity of each type (which can be wrong when multiple names are listing in a single ingredient).\n",
    "We can easily convert it to IOB1 using this assumption by prefixing every tag other than 'O' with an 'I-'."
   ]
  },
  {
   "cell_type": "code",
   "execution_count": 42,
   "id": "551195b9",
   "metadata": {
    "execution": {
     "iopub.execute_input": "2022-04-09T12:58:51.122364Z",
     "iopub.status.busy": "2022-04-09T12:58:51.121681Z",
     "iopub.status.idle": "2022-04-09T12:58:51.123843Z",
     "shell.execute_reply": "2022-04-09T12:58:51.124333Z",
     "shell.execute_reply.started": "2022-04-09T12:50:03.816720Z"
    },
    "papermill": {
     "duration": 0.083196,
     "end_time": "2022-04-09T12:58:51.124493",
     "exception": false,
     "start_time": "2022-04-09T12:58:51.041297",
     "status": "completed"
    },
    "tags": []
   },
   "outputs": [],
   "source": [
    "def convert_to_iob1(tokens):\n",
    "    return ['I-' + label if label != 'O' else 'O' for label in tokens]\n",
    "\n",
    "assert convert_to_iob1(['QUANTITY', 'SIZE', 'NAME', 'NAME', 'O', 'STATE']) == ['I-QUANTITY', 'I-SIZE', 'I-NAME', 'I-NAME', 'O', 'I-STATE']"
   ]
  },
  {
   "cell_type": "markdown",
   "id": "9b494461",
   "metadata": {
    "papermill": {
     "duration": 0.075246,
     "end_time": "2022-04-09T12:58:51.275651",
     "exception": false,
     "start_time": "2022-04-09T12:58:51.200405",
     "status": "completed"
    },
    "tags": []
   },
   "source": [
    "Let's check the classification report for a single example and compare it to the report from StanfordNER.\n",
    "\n",
    "The classification report doesn't have the TP, TN and FN, but instead has the support - the number of true entities in the data.\n",
    "The set of data is equivalent:\n",
    "\n",
    "* support = TP + FN\n",
    "* TP = R * support\n",
    "* FP = TP (1/P - 1)\n",
    "* FN = support - TP\n",
    "\n",
    "The results are the same."
   ]
  },
  {
   "cell_type": "code",
   "execution_count": 43,
   "id": "667f3273",
   "metadata": {
    "execution": {
     "iopub.execute_input": "2022-04-09T12:58:51.434509Z",
     "iopub.status.busy": "2022-04-09T12:58:51.433867Z",
     "iopub.status.idle": "2022-04-09T12:58:52.344774Z",
     "shell.execute_reply": "2022-04-09T12:58:52.344251Z",
     "shell.execute_reply.started": "2022-04-09T12:50:03.824829Z"
    },
    "papermill": {
     "duration": 0.992027,
     "end_time": "2022-04-09T12:58:52.344926",
     "exception": false,
     "start_time": "2022-04-09T12:58:51.352899",
     "status": "completed"
    },
    "tags": []
   },
   "outputs": [
    {
     "name": "stdout",
     "output_type": "stream",
     "text": [
      "              precision    recall  f1-score   support\n",
      "\n",
      "          DF     1.0000    0.9608    0.9800        51\n",
      "        NAME     0.9297    0.9279    0.9288       499\n",
      "    QUANTITY     1.0000    0.9962    0.9981       524\n",
      "        SIZE     1.0000    1.0000    1.0000        20\n",
      "       STATE     0.9601    0.9633    0.9617       300\n",
      "        TEMP     0.8750    0.7000    0.7778        10\n",
      "        UNIT     0.9819    0.9841    0.9830       441\n",
      "\n",
      "   micro avg     0.9696    0.9669    0.9682      1845\n",
      "   macro avg     0.9638    0.9332    0.9471      1845\n",
      "weighted avg     0.9695    0.9669    0.9682      1845\n",
      "\n"
     ]
    }
   ],
   "source": [
    "from seqeval.metrics import classification_report\n",
    "\n",
    "test_source = 'ar'\n",
    "model = 'ar'\n",
    "\n",
    "actual_ner = [convert_to_iob1([x[1] for x in ann]) for ann in test_data[test_source]]\n",
    "pred_ner = [convert_to_iob1(p.ner) for p in preds[model][test_source]]\n",
    "\n",
    "print(classification_report(actual_ner, pred_ner, digits=4))"
   ]
  },
  {
   "cell_type": "markdown",
   "id": "c4ddd4e9",
   "metadata": {
    "papermill": {
     "duration": 0.074932,
     "end_time": "2022-04-09T12:58:52.494937",
     "exception": false,
     "start_time": "2022-04-09T12:58:52.420005",
     "status": "completed"
    },
    "tags": []
   },
   "source": [
    "We can get the micro f1-score directly."
   ]
  },
  {
   "cell_type": "code",
   "execution_count": 44,
   "id": "8343fb79",
   "metadata": {
    "execution": {
     "iopub.execute_input": "2022-04-09T12:58:52.650064Z",
     "iopub.status.busy": "2022-04-09T12:58:52.649081Z",
     "iopub.status.idle": "2022-04-09T12:58:52.668190Z",
     "shell.execute_reply": "2022-04-09T12:58:52.668709Z",
     "shell.execute_reply.started": "2022-04-09T12:50:04.716120Z"
    },
    "papermill": {
     "duration": 0.09835,
     "end_time": "2022-04-09T12:58:52.668877",
     "exception": false,
     "start_time": "2022-04-09T12:58:52.570527",
     "status": "completed"
    },
    "tags": []
   },
   "outputs": [
    {
     "data": {
      "text/plain": [
       "'0.9682'"
      ]
     },
     "execution_count": 44,
     "metadata": {},
     "output_type": "execute_result"
    }
   ],
   "source": [
    "from seqeval.metrics import f1_score\n",
    "'%0.4f' % f1_score(actual_ner, pred_ner)"
   ]
  },
  {
   "cell_type": "markdown",
   "id": "188d2bba",
   "metadata": {
    "papermill": {
     "duration": 0.075068,
     "end_time": "2022-04-09T12:58:52.818381",
     "exception": false,
     "start_time": "2022-04-09T12:58:52.743313",
     "status": "completed"
    },
    "tags": []
   },
   "source": [
    "We can then try to reproduce Table IV by computing the f1-score for each model and data."
   ]
  },
  {
   "cell_type": "code",
   "execution_count": 45,
   "id": "6b6a4599",
   "metadata": {
    "execution": {
     "iopub.execute_input": "2022-04-09T12:58:52.974134Z",
     "iopub.status.busy": "2022-04-09T12:58:52.973155Z",
     "iopub.status.idle": "2022-04-09T12:58:53.166028Z",
     "shell.execute_reply": "2022-04-09T12:58:53.166519Z",
     "shell.execute_reply.started": "2022-04-09T12:50:04.738874Z"
    },
    "papermill": {
     "duration": 0.273313,
     "end_time": "2022-04-09T12:58:53.166711",
     "exception": false,
     "start_time": "2022-04-09T12:58:52.893398",
     "status": "completed"
    },
    "tags": []
   },
   "outputs": [],
   "source": [
    "scores = {model: {} for model in models}\n",
    "for test_source, data in test_data.items():\n",
    "    actual_ner = [convert_to_iob1([x[1] for x in ann]) for ann in data]\n",
    "    for model in models:\n",
    "        pred_ner = [convert_to_iob1(p.ner) for p in preds[model][test_source]]\n",
    "        scores[model][test_source] = f1_score(actual_ner, pred_ner)"
   ]
  },
  {
   "cell_type": "markdown",
   "id": "7347bce0",
   "metadata": {
    "papermill": {
     "duration": 0.075575,
     "end_time": "2022-04-09T12:58:53.319076",
     "exception": false,
     "start_time": "2022-04-09T12:58:53.243501",
     "status": "completed"
    },
    "tags": []
   },
   "source": [
    "We also need to calculate the scores on the combined test set, by contatenating them"
   ]
  },
  {
   "cell_type": "code",
   "execution_count": 46,
   "id": "303c543c",
   "metadata": {
    "execution": {
     "iopub.execute_input": "2022-04-09T12:58:53.477641Z",
     "iopub.status.busy": "2022-04-09T12:58:53.476633Z",
     "iopub.status.idle": "2022-04-09T12:58:53.665667Z",
     "shell.execute_reply": "2022-04-09T12:58:53.666183Z",
     "shell.execute_reply.started": "2022-04-09T12:50:10.819976Z"
    },
    "papermill": {
     "duration": 0.270857,
     "end_time": "2022-04-09T12:58:53.666371",
     "exception": false,
     "start_time": "2022-04-09T12:58:53.395514",
     "status": "completed"
    },
    "tags": []
   },
   "outputs": [],
   "source": [
    "actual_ner = [convert_to_iob1([x[1] for x in ann]) for data in test_data.values() for ann in data]\n",
    "for model in models:\n",
    "    pred_ner = [convert_to_iob1(p.ner) for test_source in test_data for p in preds[model][test_source]]\n",
    "    scores[model]['combined'] = f1_score(actual_ner, pred_ner)"
   ]
  },
  {
   "cell_type": "code",
   "execution_count": 47,
   "id": "bf91c00d",
   "metadata": {
    "execution": {
     "iopub.execute_input": "2022-04-09T12:58:53.825473Z",
     "iopub.status.busy": "2022-04-09T12:58:53.824859Z",
     "iopub.status.idle": "2022-04-09T12:58:53.885411Z",
     "shell.execute_reply": "2022-04-09T12:58:53.884891Z",
     "shell.execute_reply.started": "2022-04-09T12:50:12.448829Z"
    },
    "papermill": {
     "duration": 0.142924,
     "end_time": "2022-04-09T12:58:53.885547",
     "exception": false,
     "start_time": "2022-04-09T12:58:53.742623",
     "status": "completed"
    },
    "tags": []
   },
   "outputs": [
    {
     "data": {
      "text/html": [
       "<style type=\"text/css\">\n",
       "</style>\n",
       "<table id=\"T_f1eaa_\">\n",
       "  <thead>\n",
       "    <tr>\n",
       "      <th class=\"blank level0\" >&nbsp;</th>\n",
       "      <th class=\"col_heading level0 col0\" >ar</th>\n",
       "      <th class=\"col_heading level0 col1\" >gk</th>\n",
       "      <th class=\"col_heading level0 col2\" >ar_gk</th>\n",
       "    </tr>\n",
       "  </thead>\n",
       "  <tbody>\n",
       "    <tr>\n",
       "      <th id=\"T_f1eaa_level0_row0\" class=\"row_heading level0 row0\" >ar</th>\n",
       "      <td id=\"T_f1eaa_row0_col0\" class=\"data row0 col0\" >0.9682</td>\n",
       "      <td id=\"T_f1eaa_row0_col1\" class=\"data row0 col1\" >0.9323</td>\n",
       "      <td id=\"T_f1eaa_row0_col2\" class=\"data row0 col2\" >0.9704</td>\n",
       "    </tr>\n",
       "    <tr>\n",
       "      <th id=\"T_f1eaa_level0_row1\" class=\"row_heading level0 row1\" >gk</th>\n",
       "      <td id=\"T_f1eaa_row1_col0\" class=\"data row1 col0\" >0.8666</td>\n",
       "      <td id=\"T_f1eaa_row1_col1\" class=\"data row1 col1\" >0.9515</td>\n",
       "      <td id=\"T_f1eaa_row1_col2\" class=\"data row1 col2\" >0.9493</td>\n",
       "    </tr>\n",
       "    <tr>\n",
       "      <th id=\"T_f1eaa_level0_row2\" class=\"row_heading level0 row2\" >combined</th>\n",
       "      <td id=\"T_f1eaa_row2_col0\" class=\"data row2 col0\" >0.8911</td>\n",
       "      <td id=\"T_f1eaa_row2_col1\" class=\"data row2 col1\" >0.9469</td>\n",
       "      <td id=\"T_f1eaa_row2_col2\" class=\"data row2 col2\" >0.9544</td>\n",
       "    </tr>\n",
       "  </tbody>\n",
       "</table>\n"
      ],
      "text/plain": [
       "<pandas.io.formats.style.Styler at 0x7fd3d46afa90>"
      ]
     },
     "execution_count": 47,
     "metadata": {},
     "output_type": "execute_result"
    }
   ],
   "source": [
    "pd.DataFrame(scores).style.format('{:0.4f}')"
   ]
  },
  {
   "cell_type": "markdown",
   "id": "a05e5e28",
   "metadata": {
    "papermill": {
     "duration": 0.077302,
     "end_time": "2022-04-09T12:58:54.041515",
     "exception": false,
     "start_time": "2022-04-09T12:58:53.964213",
     "status": "completed"
    },
    "tags": []
   },
   "source": [
    "The results are *slightly* different to those in the paper, but all agree within 0.01 for each row.\n",
    "\n",
    "So we've successfully reproduced the results in the paper, and shown the evaulation from Stanford NER toolkit is very close to that of seqeval (if you work around hallucinated entities)."
   ]
  },
  {
   "cell_type": "code",
   "execution_count": 48,
   "id": "712b712c",
   "metadata": {
    "execution": {
     "iopub.execute_input": "2022-04-09T12:58:54.206383Z",
     "iopub.status.busy": "2022-04-09T12:58:54.205743Z",
     "iopub.status.idle": "2022-04-09T12:58:54.208264Z",
     "shell.execute_reply": "2022-04-09T12:58:54.208728Z",
     "shell.execute_reply.started": "2022-04-09T12:50:15.596983Z"
    },
    "papermill": {
     "duration": 0.091424,
     "end_time": "2022-04-09T12:58:54.208896",
     "exception": false,
     "start_time": "2022-04-09T12:58:54.117472",
     "status": "completed"
    },
    "tags": []
   },
   "outputs": [
    {
     "data": {
      "text/html": [
       "<div>\n",
       "<style scoped>\n",
       "    .dataframe tbody tr th:only-of-type {\n",
       "        vertical-align: middle;\n",
       "    }\n",
       "\n",
       "    .dataframe tbody tr th {\n",
       "        vertical-align: top;\n",
       "    }\n",
       "\n",
       "    .dataframe thead th {\n",
       "        text-align: right;\n",
       "    }\n",
       "</style>\n",
       "<table border=\"1\" class=\"dataframe\">\n",
       "  <thead>\n",
       "    <tr style=\"text-align: right;\">\n",
       "      <th></th>\n",
       "      <th>AllRecipes</th>\n",
       "      <th>FOOD.com</th>\n",
       "      <th>BOTH</th>\n",
       "    </tr>\n",
       "  </thead>\n",
       "  <tbody>\n",
       "    <tr>\n",
       "      <th>AllRecipes</th>\n",
       "      <td>0.9682</td>\n",
       "      <td>0.9317</td>\n",
       "      <td>0.9709</td>\n",
       "    </tr>\n",
       "    <tr>\n",
       "      <th>FOOD.com</th>\n",
       "      <td>0.8672</td>\n",
       "      <td>0.9519</td>\n",
       "      <td>0.9498</td>\n",
       "    </tr>\n",
       "    <tr>\n",
       "      <th>BOTH</th>\n",
       "      <td>0.8972</td>\n",
       "      <td>0.9472</td>\n",
       "      <td>0.9611</td>\n",
       "    </tr>\n",
       "  </tbody>\n",
       "</table>\n",
       "</div>"
      ],
      "text/plain": [
       "            AllRecipes  FOOD.com    BOTH\n",
       "AllRecipes      0.9682    0.9317  0.9709\n",
       "FOOD.com        0.8672    0.9519  0.9498\n",
       "BOTH            0.8972    0.9472  0.9611"
      ]
     },
     "execution_count": 48,
     "metadata": {},
     "output_type": "execute_result"
    }
   ],
   "source": [
    "reported_scores = pd.DataFrame([[0.9682, 0.9317, 0.9709],\n",
    "              [0.8672, 0.9519, 0.9498],\n",
    "              [0.8972, 0.9472, 0.9611]],\n",
    "             columns = ['AllRecipes', 'FOOD.com', 'BOTH'],\n",
    "             index = ['AllRecipes', 'FOOD.com', 'BOTH'])\n",
    "reported_scores"
   ]
  },
  {
   "cell_type": "markdown",
   "id": "57b42044",
   "metadata": {
    "papermill": {
     "duration": 0.07651,
     "end_time": "2022-04-09T12:58:54.362783",
     "exception": false,
     "start_time": "2022-04-09T12:58:54.286273",
     "status": "completed"
    },
    "tags": []
   },
   "source": [
    "Differences"
   ]
  },
  {
   "cell_type": "code",
   "execution_count": 49,
   "id": "3deb59ff",
   "metadata": {
    "execution": {
     "iopub.execute_input": "2022-04-09T12:58:54.527665Z",
     "iopub.status.busy": "2022-04-09T12:58:54.519976Z",
     "iopub.status.idle": "2022-04-09T12:58:54.531282Z",
     "shell.execute_reply": "2022-04-09T12:58:54.530824Z",
     "shell.execute_reply.started": "2022-04-09T12:50:49.991096Z"
    },
    "papermill": {
     "duration": 0.090779,
     "end_time": "2022-04-09T12:58:54.531427",
     "exception": false,
     "start_time": "2022-04-09T12:58:54.440648",
     "status": "completed"
    },
    "tags": []
   },
   "outputs": [
    {
     "data": {
      "text/html": [
       "<div>\n",
       "<style scoped>\n",
       "    .dataframe tbody tr th:only-of-type {\n",
       "        vertical-align: middle;\n",
       "    }\n",
       "\n",
       "    .dataframe tbody tr th {\n",
       "        vertical-align: top;\n",
       "    }\n",
       "\n",
       "    .dataframe thead th {\n",
       "        text-align: right;\n",
       "    }\n",
       "</style>\n",
       "<table border=\"1\" class=\"dataframe\">\n",
       "  <thead>\n",
       "    <tr style=\"text-align: right;\">\n",
       "      <th></th>\n",
       "      <th>AllRecipes</th>\n",
       "      <th>FOOD.com</th>\n",
       "      <th>BOTH</th>\n",
       "    </tr>\n",
       "  </thead>\n",
       "  <tbody>\n",
       "    <tr>\n",
       "      <th>AllRecipes</th>\n",
       "      <td>-0.000050</td>\n",
       "      <td>-0.000551</td>\n",
       "      <td>0.000495</td>\n",
       "    </tr>\n",
       "    <tr>\n",
       "      <th>FOOD.com</th>\n",
       "      <td>0.000631</td>\n",
       "      <td>0.000406</td>\n",
       "      <td>0.000544</td>\n",
       "    </tr>\n",
       "    <tr>\n",
       "      <th>BOTH</th>\n",
       "      <td>0.006084</td>\n",
       "      <td>0.000272</td>\n",
       "      <td>0.006710</td>\n",
       "    </tr>\n",
       "  </tbody>\n",
       "</table>\n",
       "</div>"
      ],
      "text/plain": [
       "            AllRecipes  FOOD.com      BOTH\n",
       "AllRecipes   -0.000050 -0.000551  0.000495\n",
       "FOOD.com      0.000631  0.000406  0.000544\n",
       "BOTH          0.006084  0.000272  0.006710"
      ]
     },
     "execution_count": 49,
     "metadata": {},
     "output_type": "execute_result"
    }
   ],
   "source": [
    "reported_scores - pd.DataFrame(scores).to_numpy()"
   ]
  }
 ],
 "metadata": {
  "kernelspec": {
   "display_name": "Python 3",
   "language": "python",
   "name": "python3"
  },
  "language_info": {
   "codemirror_mode": {
    "name": "ipython",
    "version": 3
   },
   "file_extension": ".py",
   "mimetype": "text/x-python",
   "name": "python",
   "nbconvert_exporter": "python",
   "pygments_lexer": "ipython3",
   "version": "3.8.8"
  },
  "papermill": {
   "default_parameters": {},
   "duration": 460.814638,
   "end_time": "2022-04-09T12:58:55.625523",
   "environment_variables": {},
   "exception": null,
   "input_path": "__notebook__.ipynb",
   "output_path": "__notebook__.ipynb",
   "parameters": {},
   "start_time": "2022-04-09T12:51:14.810885",
   "version": "2.3.3"
  },
  "widgets": {
   "application/vnd.jupyter.widget-state+json": {
    "state": {
     "020f833d919a4c059a65d55550ffed50": {
      "model_module": "@jupyter-widgets/controls",
      "model_module_version": "1.5.0",
      "model_name": "DescriptionStyleModel",
      "state": {
       "_model_module": "@jupyter-widgets/controls",
       "_model_module_version": "1.5.0",
       "_model_name": "DescriptionStyleModel",
       "_view_count": null,
       "_view_module": "@jupyter-widgets/base",
       "_view_module_version": "1.2.0",
       "_view_name": "StyleView",
       "description_width": ""
      }
     },
     "03239c7745ca441e87ee118c7b7a2e1f": {
      "model_module": "@jupyter-widgets/controls",
      "model_module_version": "1.5.0",
      "model_name": "ProgressStyleModel",
      "state": {
       "_model_module": "@jupyter-widgets/controls",
       "_model_module_version": "1.5.0",
       "_model_name": "ProgressStyleModel",
       "_view_count": null,
       "_view_module": "@jupyter-widgets/base",
       "_view_module_version": "1.2.0",
       "_view_name": "StyleView",
       "bar_color": null,
       "description_width": ""
      }
     },
     "14081a8e323f4c89b0cbdde040cba412": {
      "model_module": "@jupyter-widgets/base",
      "model_module_version": "1.2.0",
      "model_name": "LayoutModel",
      "state": {
       "_model_module": "@jupyter-widgets/base",
       "_model_module_version": "1.2.0",
       "_model_name": "LayoutModel",
       "_view_count": null,
       "_view_module": "@jupyter-widgets/base",
       "_view_module_version": "1.2.0",
       "_view_name": "LayoutView",
       "align_content": null,
       "align_items": null,
       "align_self": null,
       "border": null,
       "bottom": null,
       "display": null,
       "flex": null,
       "flex_flow": null,
       "grid_area": null,
       "grid_auto_columns": null,
       "grid_auto_flow": null,
       "grid_auto_rows": null,
       "grid_column": null,
       "grid_gap": null,
       "grid_row": null,
       "grid_template_areas": null,
       "grid_template_columns": null,
       "grid_template_rows": null,
       "height": null,
       "justify_content": null,
       "justify_items": null,
       "left": null,
       "margin": null,
       "max_height": null,
       "max_width": null,
       "min_height": null,
       "min_width": null,
       "object_fit": null,
       "object_position": null,
       "order": null,
       "overflow": null,
       "overflow_x": null,
       "overflow_y": null,
       "padding": null,
       "right": null,
       "top": null,
       "visibility": null,
       "width": null
      }
     },
     "143de85e5d08401faf8a243e23b3d8ea": {
      "model_module": "@jupyter-widgets/controls",
      "model_module_version": "1.5.0",
      "model_name": "FloatProgressModel",
      "state": {
       "_dom_classes": [],
       "_model_module": "@jupyter-widgets/controls",
       "_model_module_version": "1.5.0",
       "_model_name": "FloatProgressModel",
       "_view_count": null,
       "_view_module": "@jupyter-widgets/controls",
       "_view_module_version": "1.5.0",
       "_view_name": "ProgressView",
       "bar_style": "success",
       "description": "",
       "description_tooltip": null,
       "layout": "IPY_MODEL_dc5fee7f354844568fd5580b660f5f8b",
       "max": 483,
       "min": 0,
       "orientation": "horizontal",
       "style": "IPY_MODEL_8042e13c2f2841e8a01c94053eaf4198",
       "value": 483
      }
     },
     "15a1bb2e4a4a424885715a7be95d3df8": {
      "model_module": "@jupyter-widgets/controls",
      "model_module_version": "1.5.0",
      "model_name": "ProgressStyleModel",
      "state": {
       "_model_module": "@jupyter-widgets/controls",
       "_model_module_version": "1.5.0",
       "_model_name": "ProgressStyleModel",
       "_view_count": null,
       "_view_module": "@jupyter-widgets/base",
       "_view_module_version": "1.2.0",
       "_view_name": "StyleView",
       "bar_color": null,
       "description_width": ""
      }
     },
     "1a31acba93834a3ba423d564804012fa": {
      "model_module": "@jupyter-widgets/base",
      "model_module_version": "1.2.0",
      "model_name": "LayoutModel",
      "state": {
       "_model_module": "@jupyter-widgets/base",
       "_model_module_version": "1.2.0",
       "_model_name": "LayoutModel",
       "_view_count": null,
       "_view_module": "@jupyter-widgets/base",
       "_view_module_version": "1.2.0",
       "_view_name": "LayoutView",
       "align_content": null,
       "align_items": null,
       "align_self": null,
       "border": null,
       "bottom": null,
       "display": null,
       "flex": null,
       "flex_flow": null,
       "grid_area": null,
       "grid_auto_columns": null,
       "grid_auto_flow": null,
       "grid_auto_rows": null,
       "grid_column": null,
       "grid_gap": null,
       "grid_row": null,
       "grid_template_areas": null,
       "grid_template_columns": null,
       "grid_template_rows": null,
       "height": null,
       "justify_content": null,
       "justify_items": null,
       "left": null,
       "margin": null,
       "max_height": null,
       "max_width": null,
       "min_height": null,
       "min_width": null,
       "object_fit": null,
       "object_position": null,
       "order": null,
       "overflow": null,
       "overflow_x": null,
       "overflow_y": null,
       "padding": null,
       "right": null,
       "top": null,
       "visibility": null,
       "width": null
      }
     },
     "1bf7c3222932415c9ea7aa4bb5636474": {
      "model_module": "@jupyter-widgets/base",
      "model_module_version": "1.2.0",
      "model_name": "LayoutModel",
      "state": {
       "_model_module": "@jupyter-widgets/base",
       "_model_module_version": "1.2.0",
       "_model_name": "LayoutModel",
       "_view_count": null,
       "_view_module": "@jupyter-widgets/base",
       "_view_module_version": "1.2.0",
       "_view_name": "LayoutView",
       "align_content": null,
       "align_items": null,
       "align_self": null,
       "border": null,
       "bottom": null,
       "display": null,
       "flex": null,
       "flex_flow": null,
       "grid_area": null,
       "grid_auto_columns": null,
       "grid_auto_flow": null,
       "grid_auto_rows": null,
       "grid_column": null,
       "grid_gap": null,
       "grid_row": null,
       "grid_template_areas": null,
       "grid_template_columns": null,
       "grid_template_rows": null,
       "height": null,
       "justify_content": null,
       "justify_items": null,
       "left": null,
       "margin": null,
       "max_height": null,
       "max_width": null,
       "min_height": null,
       "min_width": null,
       "object_fit": null,
       "object_position": null,
       "order": null,
       "overflow": null,
       "overflow_x": null,
       "overflow_y": null,
       "padding": null,
       "right": null,
       "top": null,
       "visibility": null,
       "width": null
      }
     },
     "1d11e03b9e4d4decbba4400bc1965776": {
      "model_module": "@jupyter-widgets/controls",
      "model_module_version": "1.5.0",
      "model_name": "HTMLModel",
      "state": {
       "_dom_classes": [],
       "_model_module": "@jupyter-widgets/controls",
       "_model_module_version": "1.5.0",
       "_model_name": "HTMLModel",
       "_view_count": null,
       "_view_module": "@jupyter-widgets/controls",
       "_view_module_version": "1.5.0",
       "_view_name": "HTMLView",
       "description": "",
       "description_tooltip": null,
       "layout": "IPY_MODEL_48262234cd344eda8979120b50856c94",
       "placeholder": "​",
       "style": "IPY_MODEL_44364af60af647118d343c9c0f46fc18",
       "value": "100%"
      }
     },
     "1f0fd59fa96a478eb27907f10ee10677": {
      "model_module": "@jupyter-widgets/base",
      "model_module_version": "1.2.0",
      "model_name": "LayoutModel",
      "state": {
       "_model_module": "@jupyter-widgets/base",
       "_model_module_version": "1.2.0",
       "_model_name": "LayoutModel",
       "_view_count": null,
       "_view_module": "@jupyter-widgets/base",
       "_view_module_version": "1.2.0",
       "_view_name": "LayoutView",
       "align_content": null,
       "align_items": null,
       "align_self": null,
       "border": null,
       "bottom": null,
       "display": null,
       "flex": null,
       "flex_flow": null,
       "grid_area": null,
       "grid_auto_columns": null,
       "grid_auto_flow": null,
       "grid_auto_rows": null,
       "grid_column": null,
       "grid_gap": null,
       "grid_row": null,
       "grid_template_areas": null,
       "grid_template_columns": null,
       "grid_template_rows": null,
       "height": null,
       "justify_content": null,
       "justify_items": null,
       "left": null,
       "margin": null,
       "max_height": null,
       "max_width": null,
       "min_height": null,
       "min_width": null,
       "object_fit": null,
       "object_position": null,
       "order": null,
       "overflow": null,
       "overflow_x": null,
       "overflow_y": null,
       "padding": null,
       "right": null,
       "top": null,
       "visibility": null,
       "width": null
      }
     },
     "201704c2f8b440438423d79dc37f35af": {
      "model_module": "@jupyter-widgets/controls",
      "model_module_version": "1.5.0",
      "model_name": "HBoxModel",
      "state": {
       "_dom_classes": [],
       "_model_module": "@jupyter-widgets/controls",
       "_model_module_version": "1.5.0",
       "_model_name": "HBoxModel",
       "_view_count": null,
       "_view_module": "@jupyter-widgets/controls",
       "_view_module_version": "1.5.0",
       "_view_name": "HBoxView",
       "box_style": "",
       "children": [
        "IPY_MODEL_fb9d3d5f12f141a993f4c12362b4a176",
        "IPY_MODEL_9885e9b47f004d4398a95eb4dc2cce40",
        "IPY_MODEL_fe84c1c29bc64eb69defd264ebe749d1"
       ],
       "layout": "IPY_MODEL_a40fd10062e1411486d83df7437b6b2b"
      }
     },
     "20bacbd84d794e5ca0043419028884f1": {
      "model_module": "@jupyter-widgets/controls",
      "model_module_version": "1.5.0",
      "model_name": "HTMLModel",
      "state": {
       "_dom_classes": [],
       "_model_module": "@jupyter-widgets/controls",
       "_model_module_version": "1.5.0",
       "_model_name": "HTMLModel",
       "_view_count": null,
       "_view_module": "@jupyter-widgets/controls",
       "_view_module_version": "1.5.0",
       "_view_name": "HTMLView",
       "description": "",
       "description_tooltip": null,
       "layout": "IPY_MODEL_be80030926de46c5a3691b21dc644717",
       "placeholder": "​",
       "style": "IPY_MODEL_99006d607c0f44dd82aee6b5ebcd501e",
       "value": "Downloading https://huggingface.co/stanfordnlp/CoreNLP/resolve/main/stanford-corenlp-latest.zip: 100%"
      }
     },
     "20e00dbd2b9841abad49587112f0b6d3": {
      "model_module": "@jupyter-widgets/controls",
      "model_module_version": "1.5.0",
      "model_name": "FloatProgressModel",
      "state": {
       "_dom_classes": [],
       "_model_module": "@jupyter-widgets/controls",
       "_model_module_version": "1.5.0",
       "_model_name": "FloatProgressModel",
       "_view_count": null,
       "_view_module": "@jupyter-widgets/controls",
       "_view_module_version": "1.5.0",
       "_view_name": "ProgressView",
       "bar_style": "success",
       "description": "",
       "description_tooltip": null,
       "layout": "IPY_MODEL_9793cad440e74baebd93a12c67955605",
       "max": 483,
       "min": 0,
       "orientation": "horizontal",
       "style": "IPY_MODEL_41bb31b1195143e6be248a62cd69a5ca",
       "value": 483
      }
     },
     "276b55a78ede4d3ba40d0d1b623bf8d8": {
      "model_module": "@jupyter-widgets/controls",
      "model_module_version": "1.5.0",
      "model_name": "ProgressStyleModel",
      "state": {
       "_model_module": "@jupyter-widgets/controls",
       "_model_module_version": "1.5.0",
       "_model_name": "ProgressStyleModel",
       "_view_count": null,
       "_view_module": "@jupyter-widgets/base",
       "_view_module_version": "1.2.0",
       "_view_name": "StyleView",
       "bar_color": null,
       "description_width": ""
      }
     },
     "3240bc3e3edf4e839628d6266bcdfafa": {
      "model_module": "@jupyter-widgets/controls",
      "model_module_version": "1.5.0",
      "model_name": "DescriptionStyleModel",
      "state": {
       "_model_module": "@jupyter-widgets/controls",
       "_model_module_version": "1.5.0",
       "_model_name": "DescriptionStyleModel",
       "_view_count": null,
       "_view_module": "@jupyter-widgets/base",
       "_view_module_version": "1.2.0",
       "_view_name": "StyleView",
       "description_width": ""
      }
     },
     "36ecd8b5dfb24955b9bb22b5d13a903e": {
      "model_module": "@jupyter-widgets/controls",
      "model_module_version": "1.5.0",
      "model_name": "ProgressStyleModel",
      "state": {
       "_model_module": "@jupyter-widgets/controls",
       "_model_module_version": "1.5.0",
       "_model_name": "ProgressStyleModel",
       "_view_count": null,
       "_view_module": "@jupyter-widgets/base",
       "_view_module_version": "1.2.0",
       "_view_name": "StyleView",
       "bar_color": null,
       "description_width": ""
      }
     },
     "37fdbb5a7bc94720b51017c598316c6c": {
      "model_module": "@jupyter-widgets/base",
      "model_module_version": "1.2.0",
      "model_name": "LayoutModel",
      "state": {
       "_model_module": "@jupyter-widgets/base",
       "_model_module_version": "1.2.0",
       "_model_name": "LayoutModel",
       "_view_count": null,
       "_view_module": "@jupyter-widgets/base",
       "_view_module_version": "1.2.0",
       "_view_name": "LayoutView",
       "align_content": null,
       "align_items": null,
       "align_self": null,
       "border": null,
       "bottom": null,
       "display": null,
       "flex": null,
       "flex_flow": null,
       "grid_area": null,
       "grid_auto_columns": null,
       "grid_auto_flow": null,
       "grid_auto_rows": null,
       "grid_column": null,
       "grid_gap": null,
       "grid_row": null,
       "grid_template_areas": null,
       "grid_template_columns": null,
       "grid_template_rows": null,
       "height": null,
       "justify_content": null,
       "justify_items": null,
       "left": null,
       "margin": null,
       "max_height": null,
       "max_width": null,
       "min_height": null,
       "min_width": null,
       "object_fit": null,
       "object_position": null,
       "order": null,
       "overflow": null,
       "overflow_x": null,
       "overflow_y": null,
       "padding": null,
       "right": null,
       "top": null,
       "visibility": null,
       "width": null
      }
     },
     "382ff55e53df4302ad85293cfe039359": {
      "model_module": "@jupyter-widgets/controls",
      "model_module_version": "1.5.0",
      "model_name": "HBoxModel",
      "state": {
       "_dom_classes": [],
       "_model_module": "@jupyter-widgets/controls",
       "_model_module_version": "1.5.0",
       "_model_name": "HBoxModel",
       "_view_count": null,
       "_view_module": "@jupyter-widgets/controls",
       "_view_module_version": "1.5.0",
       "_view_name": "HBoxView",
       "box_style": "",
       "children": [
        "IPY_MODEL_1d11e03b9e4d4decbba4400bc1965776",
        "IPY_MODEL_5c7ae7bf72154d9e8cc2e06b2cd001e1",
        "IPY_MODEL_39a89ccccf2c421781a843b9d1656e3e"
       ],
       "layout": "IPY_MODEL_1bf7c3222932415c9ea7aa4bb5636474"
      }
     },
     "3859fe8f1dc3497d87f424b44c1d99a0": {
      "model_module": "@jupyter-widgets/base",
      "model_module_version": "1.2.0",
      "model_name": "LayoutModel",
      "state": {
       "_model_module": "@jupyter-widgets/base",
       "_model_module_version": "1.2.0",
       "_model_name": "LayoutModel",
       "_view_count": null,
       "_view_module": "@jupyter-widgets/base",
       "_view_module_version": "1.2.0",
       "_view_name": "LayoutView",
       "align_content": null,
       "align_items": null,
       "align_self": null,
       "border": null,
       "bottom": null,
       "display": null,
       "flex": null,
       "flex_flow": null,
       "grid_area": null,
       "grid_auto_columns": null,
       "grid_auto_flow": null,
       "grid_auto_rows": null,
       "grid_column": null,
       "grid_gap": null,
       "grid_row": null,
       "grid_template_areas": null,
       "grid_template_columns": null,
       "grid_template_rows": null,
       "height": null,
       "justify_content": null,
       "justify_items": null,
       "left": null,
       "margin": null,
       "max_height": null,
       "max_width": null,
       "min_height": null,
       "min_width": null,
       "object_fit": null,
       "object_position": null,
       "order": null,
       "overflow": null,
       "overflow_x": null,
       "overflow_y": null,
       "padding": null,
       "right": null,
       "top": null,
       "visibility": null,
       "width": null
      }
     },
     "39a89ccccf2c421781a843b9d1656e3e": {
      "model_module": "@jupyter-widgets/controls",
      "model_module_version": "1.5.0",
      "model_name": "HTMLModel",
      "state": {
       "_dom_classes": [],
       "_model_module": "@jupyter-widgets/controls",
       "_model_module_version": "1.5.0",
       "_model_name": "HTMLModel",
       "_view_count": null,
       "_view_module": "@jupyter-widgets/controls",
       "_view_module_version": "1.5.0",
       "_view_name": "HTMLView",
       "description": "",
       "description_tooltip": null,
       "layout": "IPY_MODEL_942a981e3f24467da6d4e1b59a5b1123",
       "placeholder": "​",
       "style": "IPY_MODEL_020f833d919a4c059a65d55550ffed50",
       "value": " 1705/1705 [00:49&lt;00:00, 44.74it/s]"
      }
     },
     "3a1bda80c6ea4109866785c596098b20": {
      "model_module": "@jupyter-widgets/controls",
      "model_module_version": "1.5.0",
      "model_name": "FloatProgressModel",
      "state": {
       "_dom_classes": [],
       "_model_module": "@jupyter-widgets/controls",
       "_model_module_version": "1.5.0",
       "_model_name": "FloatProgressModel",
       "_view_count": null,
       "_view_module": "@jupyter-widgets/controls",
       "_view_module_version": "1.5.0",
       "_view_name": "ProgressView",
       "bar_style": "success",
       "description": "",
       "description_tooltip": null,
       "layout": "IPY_MODEL_c6205bb11248461cb3d0e20e1c84204c",
       "max": 505207915,
       "min": 0,
       "orientation": "horizontal",
       "style": "IPY_MODEL_3d904b894035470abaa018d7bf2f6dc6",
       "value": 505207915
      }
     },
     "3b4a39e4e0e84afd90452371017e7398": {
      "model_module": "@jupyter-widgets/controls",
      "model_module_version": "1.5.0",
      "model_name": "HBoxModel",
      "state": {
       "_dom_classes": [],
       "_model_module": "@jupyter-widgets/controls",
       "_model_module_version": "1.5.0",
       "_model_name": "HBoxModel",
       "_view_count": null,
       "_view_module": "@jupyter-widgets/controls",
       "_view_module_version": "1.5.0",
       "_view_name": "HBoxView",
       "box_style": "",
       "children": [
        "IPY_MODEL_d25da6bb521741b2a7ad7e39d1b73ea1",
        "IPY_MODEL_ed2cb32e6c9b47819c37e97d31dd959a",
        "IPY_MODEL_c18a1960addd4052ab964dc9072fa55e"
       ],
       "layout": "IPY_MODEL_3859fe8f1dc3497d87f424b44c1d99a0"
      }
     },
     "3d904b894035470abaa018d7bf2f6dc6": {
      "model_module": "@jupyter-widgets/controls",
      "model_module_version": "1.5.0",
      "model_name": "ProgressStyleModel",
      "state": {
       "_model_module": "@jupyter-widgets/controls",
       "_model_module_version": "1.5.0",
       "_model_name": "ProgressStyleModel",
       "_view_count": null,
       "_view_module": "@jupyter-widgets/base",
       "_view_module_version": "1.2.0",
       "_view_name": "StyleView",
       "bar_color": null,
       "description_width": ""
      }
     },
     "41bb31b1195143e6be248a62cd69a5ca": {
      "model_module": "@jupyter-widgets/controls",
      "model_module_version": "1.5.0",
      "model_name": "ProgressStyleModel",
      "state": {
       "_model_module": "@jupyter-widgets/controls",
       "_model_module_version": "1.5.0",
       "_model_name": "ProgressStyleModel",
       "_view_count": null,
       "_view_module": "@jupyter-widgets/base",
       "_view_module_version": "1.2.0",
       "_view_name": "StyleView",
       "bar_color": null,
       "description_width": ""
      }
     },
     "42b0bfbf307647678e6abbae21d4fd94": {
      "model_module": "@jupyter-widgets/controls",
      "model_module_version": "1.5.0",
      "model_name": "HTMLModel",
      "state": {
       "_dom_classes": [],
       "_model_module": "@jupyter-widgets/controls",
       "_model_module_version": "1.5.0",
       "_model_name": "HTMLModel",
       "_view_count": null,
       "_view_module": "@jupyter-widgets/controls",
       "_view_module_version": "1.5.0",
       "_view_name": "HTMLView",
       "description": "",
       "description_tooltip": null,
       "layout": "IPY_MODEL_bdd5b1cffe554fbc96328d8429c57154",
       "placeholder": "​",
       "style": "IPY_MODEL_62905d6dfb3b4df7bdcfd6eaaeb774bf",
       "value": "100%"
      }
     },
     "44364af60af647118d343c9c0f46fc18": {
      "model_module": "@jupyter-widgets/controls",
      "model_module_version": "1.5.0",
      "model_name": "DescriptionStyleModel",
      "state": {
       "_model_module": "@jupyter-widgets/controls",
       "_model_module_version": "1.5.0",
       "_model_name": "DescriptionStyleModel",
       "_view_count": null,
       "_view_module": "@jupyter-widgets/base",
       "_view_module_version": "1.2.0",
       "_view_name": "StyleView",
       "description_width": ""
      }
     },
     "4666b4331671487d9f283522819d65be": {
      "model_module": "@jupyter-widgets/base",
      "model_module_version": "1.2.0",
      "model_name": "LayoutModel",
      "state": {
       "_model_module": "@jupyter-widgets/base",
       "_model_module_version": "1.2.0",
       "_model_name": "LayoutModel",
       "_view_count": null,
       "_view_module": "@jupyter-widgets/base",
       "_view_module_version": "1.2.0",
       "_view_name": "LayoutView",
       "align_content": null,
       "align_items": null,
       "align_self": null,
       "border": null,
       "bottom": null,
       "display": null,
       "flex": null,
       "flex_flow": null,
       "grid_area": null,
       "grid_auto_columns": null,
       "grid_auto_flow": null,
       "grid_auto_rows": null,
       "grid_column": null,
       "grid_gap": null,
       "grid_row": null,
       "grid_template_areas": null,
       "grid_template_columns": null,
       "grid_template_rows": null,
       "height": null,
       "justify_content": null,
       "justify_items": null,
       "left": null,
       "margin": null,
       "max_height": null,
       "max_width": null,
       "min_height": null,
       "min_width": null,
       "object_fit": null,
       "object_position": null,
       "order": null,
       "overflow": null,
       "overflow_x": null,
       "overflow_y": null,
       "padding": null,
       "right": null,
       "top": null,
       "visibility": null,
       "width": null
      }
     },
     "48262234cd344eda8979120b50856c94": {
      "model_module": "@jupyter-widgets/base",
      "model_module_version": "1.2.0",
      "model_name": "LayoutModel",
      "state": {
       "_model_module": "@jupyter-widgets/base",
       "_model_module_version": "1.2.0",
       "_model_name": "LayoutModel",
       "_view_count": null,
       "_view_module": "@jupyter-widgets/base",
       "_view_module_version": "1.2.0",
       "_view_name": "LayoutView",
       "align_content": null,
       "align_items": null,
       "align_self": null,
       "border": null,
       "bottom": null,
       "display": null,
       "flex": null,
       "flex_flow": null,
       "grid_area": null,
       "grid_auto_columns": null,
       "grid_auto_flow": null,
       "grid_auto_rows": null,
       "grid_column": null,
       "grid_gap": null,
       "grid_row": null,
       "grid_template_areas": null,
       "grid_template_columns": null,
       "grid_template_rows": null,
       "height": null,
       "justify_content": null,
       "justify_items": null,
       "left": null,
       "margin": null,
       "max_height": null,
       "max_width": null,
       "min_height": null,
       "min_width": null,
       "object_fit": null,
       "object_position": null,
       "order": null,
       "overflow": null,
       "overflow_x": null,
       "overflow_y": null,
       "padding": null,
       "right": null,
       "top": null,
       "visibility": null,
       "width": null
      }
     },
     "4b8708fed23c45b792961bbe880fb29c": {
      "model_module": "@jupyter-widgets/base",
      "model_module_version": "1.2.0",
      "model_name": "LayoutModel",
      "state": {
       "_model_module": "@jupyter-widgets/base",
       "_model_module_version": "1.2.0",
       "_model_name": "LayoutModel",
       "_view_count": null,
       "_view_module": "@jupyter-widgets/base",
       "_view_module_version": "1.2.0",
       "_view_name": "LayoutView",
       "align_content": null,
       "align_items": null,
       "align_self": null,
       "border": null,
       "bottom": null,
       "display": null,
       "flex": null,
       "flex_flow": null,
       "grid_area": null,
       "grid_auto_columns": null,
       "grid_auto_flow": null,
       "grid_auto_rows": null,
       "grid_column": null,
       "grid_gap": null,
       "grid_row": null,
       "grid_template_areas": null,
       "grid_template_columns": null,
       "grid_template_rows": null,
       "height": null,
       "justify_content": null,
       "justify_items": null,
       "left": null,
       "margin": null,
       "max_height": null,
       "max_width": null,
       "min_height": null,
       "min_width": null,
       "object_fit": null,
       "object_position": null,
       "order": null,
       "overflow": null,
       "overflow_x": null,
       "overflow_y": null,
       "padding": null,
       "right": null,
       "top": null,
       "visibility": null,
       "width": null
      }
     },
     "529d44e94748477e8a7ac2c7a2b6a435": {
      "model_module": "@jupyter-widgets/controls",
      "model_module_version": "1.5.0",
      "model_name": "HTMLModel",
      "state": {
       "_dom_classes": [],
       "_model_module": "@jupyter-widgets/controls",
       "_model_module_version": "1.5.0",
       "_model_name": "HTMLModel",
       "_view_count": null,
       "_view_module": "@jupyter-widgets/controls",
       "_view_module_version": "1.5.0",
       "_view_name": "HTMLView",
       "description": "",
       "description_tooltip": null,
       "layout": "IPY_MODEL_5f0e0b85e080433b9e3dfc989ebfe1f5",
       "placeholder": "​",
       "style": "IPY_MODEL_f4c08dff7e6141648332b48d2633e477",
       "value": " 483/483 [00:25&lt;00:00, 45.16it/s]"
      }
     },
     "55e730bab7ad4a75952a0320311d4561": {
      "model_module": "@jupyter-widgets/base",
      "model_module_version": "1.2.0",
      "model_name": "LayoutModel",
      "state": {
       "_model_module": "@jupyter-widgets/base",
       "_model_module_version": "1.2.0",
       "_model_name": "LayoutModel",
       "_view_count": null,
       "_view_module": "@jupyter-widgets/base",
       "_view_module_version": "1.2.0",
       "_view_name": "LayoutView",
       "align_content": null,
       "align_items": null,
       "align_self": null,
       "border": null,
       "bottom": null,
       "display": null,
       "flex": null,
       "flex_flow": null,
       "grid_area": null,
       "grid_auto_columns": null,
       "grid_auto_flow": null,
       "grid_auto_rows": null,
       "grid_column": null,
       "grid_gap": null,
       "grid_row": null,
       "grid_template_areas": null,
       "grid_template_columns": null,
       "grid_template_rows": null,
       "height": null,
       "justify_content": null,
       "justify_items": null,
       "left": null,
       "margin": null,
       "max_height": null,
       "max_width": null,
       "min_height": null,
       "min_width": null,
       "object_fit": null,
       "object_position": null,
       "order": null,
       "overflow": null,
       "overflow_x": null,
       "overflow_y": null,
       "padding": null,
       "right": null,
       "top": null,
       "visibility": null,
       "width": null
      }
     },
     "58bfcbca0f3d41a78499bb22edc07bd9": {
      "model_module": "@jupyter-widgets/controls",
      "model_module_version": "1.5.0",
      "model_name": "HBoxModel",
      "state": {
       "_dom_classes": [],
       "_model_module": "@jupyter-widgets/controls",
       "_model_module_version": "1.5.0",
       "_model_name": "HBoxModel",
       "_view_count": null,
       "_view_module": "@jupyter-widgets/controls",
       "_view_module_version": "1.5.0",
       "_view_name": "HBoxView",
       "box_style": "",
       "children": [
        "IPY_MODEL_42b0bfbf307647678e6abbae21d4fd94",
        "IPY_MODEL_143de85e5d08401faf8a243e23b3d8ea",
        "IPY_MODEL_529d44e94748477e8a7ac2c7a2b6a435"
       ],
       "layout": "IPY_MODEL_9c20f29f7fb64a94ac5abf833ab6df41"
      }
     },
     "599dd97b02234f13ac317f3585f65317": {
      "model_module": "@jupyter-widgets/controls",
      "model_module_version": "1.5.0",
      "model_name": "DescriptionStyleModel",
      "state": {
       "_model_module": "@jupyter-widgets/controls",
       "_model_module_version": "1.5.0",
       "_model_name": "DescriptionStyleModel",
       "_view_count": null,
       "_view_module": "@jupyter-widgets/base",
       "_view_module_version": "1.2.0",
       "_view_name": "StyleView",
       "description_width": ""
      }
     },
     "5c7ae7bf72154d9e8cc2e06b2cd001e1": {
      "model_module": "@jupyter-widgets/controls",
      "model_module_version": "1.5.0",
      "model_name": "FloatProgressModel",
      "state": {
       "_dom_classes": [],
       "_model_module": "@jupyter-widgets/controls",
       "_model_module_version": "1.5.0",
       "_model_name": "FloatProgressModel",
       "_view_count": null,
       "_view_module": "@jupyter-widgets/controls",
       "_view_module_version": "1.5.0",
       "_view_name": "ProgressView",
       "bar_style": "success",
       "description": "",
       "description_tooltip": null,
       "layout": "IPY_MODEL_7ce94117e1714bb69ef1b3b4323b15fa",
       "max": 1705,
       "min": 0,
       "orientation": "horizontal",
       "style": "IPY_MODEL_f6703e1b17734577b4056160d2822c78",
       "value": 1705
      }
     },
     "5d4c7de6184341078af8b81639d8abd4": {
      "model_module": "@jupyter-widgets/controls",
      "model_module_version": "1.5.0",
      "model_name": "DescriptionStyleModel",
      "state": {
       "_model_module": "@jupyter-widgets/controls",
       "_model_module_version": "1.5.0",
       "_model_name": "DescriptionStyleModel",
       "_view_count": null,
       "_view_module": "@jupyter-widgets/base",
       "_view_module_version": "1.2.0",
       "_view_name": "StyleView",
       "description_width": ""
      }
     },
     "5f0e0b85e080433b9e3dfc989ebfe1f5": {
      "model_module": "@jupyter-widgets/base",
      "model_module_version": "1.2.0",
      "model_name": "LayoutModel",
      "state": {
       "_model_module": "@jupyter-widgets/base",
       "_model_module_version": "1.2.0",
       "_model_name": "LayoutModel",
       "_view_count": null,
       "_view_module": "@jupyter-widgets/base",
       "_view_module_version": "1.2.0",
       "_view_name": "LayoutView",
       "align_content": null,
       "align_items": null,
       "align_self": null,
       "border": null,
       "bottom": null,
       "display": null,
       "flex": null,
       "flex_flow": null,
       "grid_area": null,
       "grid_auto_columns": null,
       "grid_auto_flow": null,
       "grid_auto_rows": null,
       "grid_column": null,
       "grid_gap": null,
       "grid_row": null,
       "grid_template_areas": null,
       "grid_template_columns": null,
       "grid_template_rows": null,
       "height": null,
       "justify_content": null,
       "justify_items": null,
       "left": null,
       "margin": null,
       "max_height": null,
       "max_width": null,
       "min_height": null,
       "min_width": null,
       "object_fit": null,
       "object_position": null,
       "order": null,
       "overflow": null,
       "overflow_x": null,
       "overflow_y": null,
       "padding": null,
       "right": null,
       "top": null,
       "visibility": null,
       "width": null
      }
     },
     "5f6ad8098a6340559770e52d75310de1": {
      "model_module": "@jupyter-widgets/controls",
      "model_module_version": "1.5.0",
      "model_name": "DescriptionStyleModel",
      "state": {
       "_model_module": "@jupyter-widgets/controls",
       "_model_module_version": "1.5.0",
       "_model_name": "DescriptionStyleModel",
       "_view_count": null,
       "_view_module": "@jupyter-widgets/base",
       "_view_module_version": "1.2.0",
       "_view_name": "StyleView",
       "description_width": ""
      }
     },
     "62905d6dfb3b4df7bdcfd6eaaeb774bf": {
      "model_module": "@jupyter-widgets/controls",
      "model_module_version": "1.5.0",
      "model_name": "DescriptionStyleModel",
      "state": {
       "_model_module": "@jupyter-widgets/controls",
       "_model_module_version": "1.5.0",
       "_model_name": "DescriptionStyleModel",
       "_view_count": null,
       "_view_module": "@jupyter-widgets/base",
       "_view_module_version": "1.2.0",
       "_view_name": "StyleView",
       "description_width": ""
      }
     },
     "65e7802bf1404a3094666054e052922d": {
      "model_module": "@jupyter-widgets/base",
      "model_module_version": "1.2.0",
      "model_name": "LayoutModel",
      "state": {
       "_model_module": "@jupyter-widgets/base",
       "_model_module_version": "1.2.0",
       "_model_name": "LayoutModel",
       "_view_count": null,
       "_view_module": "@jupyter-widgets/base",
       "_view_module_version": "1.2.0",
       "_view_name": "LayoutView",
       "align_content": null,
       "align_items": null,
       "align_self": null,
       "border": null,
       "bottom": null,
       "display": null,
       "flex": null,
       "flex_flow": null,
       "grid_area": null,
       "grid_auto_columns": null,
       "grid_auto_flow": null,
       "grid_auto_rows": null,
       "grid_column": null,
       "grid_gap": null,
       "grid_row": null,
       "grid_template_areas": null,
       "grid_template_columns": null,
       "grid_template_rows": null,
       "height": null,
       "justify_content": null,
       "justify_items": null,
       "left": null,
       "margin": null,
       "max_height": null,
       "max_width": null,
       "min_height": null,
       "min_width": null,
       "object_fit": null,
       "object_position": null,
       "order": null,
       "overflow": null,
       "overflow_x": null,
       "overflow_y": null,
       "padding": null,
       "right": null,
       "top": null,
       "visibility": null,
       "width": null
      }
     },
     "7086e37563494848b416161fc28067e2": {
      "model_module": "@jupyter-widgets/base",
      "model_module_version": "1.2.0",
      "model_name": "LayoutModel",
      "state": {
       "_model_module": "@jupyter-widgets/base",
       "_model_module_version": "1.2.0",
       "_model_name": "LayoutModel",
       "_view_count": null,
       "_view_module": "@jupyter-widgets/base",
       "_view_module_version": "1.2.0",
       "_view_name": "LayoutView",
       "align_content": null,
       "align_items": null,
       "align_self": null,
       "border": null,
       "bottom": null,
       "display": null,
       "flex": null,
       "flex_flow": null,
       "grid_area": null,
       "grid_auto_columns": null,
       "grid_auto_flow": null,
       "grid_auto_rows": null,
       "grid_column": null,
       "grid_gap": null,
       "grid_row": null,
       "grid_template_areas": null,
       "grid_template_columns": null,
       "grid_template_rows": null,
       "height": null,
       "justify_content": null,
       "justify_items": null,
       "left": null,
       "margin": null,
       "max_height": null,
       "max_width": null,
       "min_height": null,
       "min_width": null,
       "object_fit": null,
       "object_position": null,
       "order": null,
       "overflow": null,
       "overflow_x": null,
       "overflow_y": null,
       "padding": null,
       "right": null,
       "top": null,
       "visibility": null,
       "width": null
      }
     },
     "70b263615d044d6595173d9653a6fc45": {
      "model_module": "@jupyter-widgets/controls",
      "model_module_version": "1.5.0",
      "model_name": "DescriptionStyleModel",
      "state": {
       "_model_module": "@jupyter-widgets/controls",
       "_model_module_version": "1.5.0",
       "_model_name": "DescriptionStyleModel",
       "_view_count": null,
       "_view_module": "@jupyter-widgets/base",
       "_view_module_version": "1.2.0",
       "_view_name": "StyleView",
       "description_width": ""
      }
     },
     "7401521760c54177826a1eff11e266b8": {
      "model_module": "@jupyter-widgets/base",
      "model_module_version": "1.2.0",
      "model_name": "LayoutModel",
      "state": {
       "_model_module": "@jupyter-widgets/base",
       "_model_module_version": "1.2.0",
       "_model_name": "LayoutModel",
       "_view_count": null,
       "_view_module": "@jupyter-widgets/base",
       "_view_module_version": "1.2.0",
       "_view_name": "LayoutView",
       "align_content": null,
       "align_items": null,
       "align_self": null,
       "border": null,
       "bottom": null,
       "display": null,
       "flex": null,
       "flex_flow": null,
       "grid_area": null,
       "grid_auto_columns": null,
       "grid_auto_flow": null,
       "grid_auto_rows": null,
       "grid_column": null,
       "grid_gap": null,
       "grid_row": null,
       "grid_template_areas": null,
       "grid_template_columns": null,
       "grid_template_rows": null,
       "height": null,
       "justify_content": null,
       "justify_items": null,
       "left": null,
       "margin": null,
       "max_height": null,
       "max_width": null,
       "min_height": null,
       "min_width": null,
       "object_fit": null,
       "object_position": null,
       "order": null,
       "overflow": null,
       "overflow_x": null,
       "overflow_y": null,
       "padding": null,
       "right": null,
       "top": null,
       "visibility": null,
       "width": null
      }
     },
     "77d51ed7eb0b4dcbb0068e3358528b1d": {
      "model_module": "@jupyter-widgets/controls",
      "model_module_version": "1.5.0",
      "model_name": "DescriptionStyleModel",
      "state": {
       "_model_module": "@jupyter-widgets/controls",
       "_model_module_version": "1.5.0",
       "_model_name": "DescriptionStyleModel",
       "_view_count": null,
       "_view_module": "@jupyter-widgets/base",
       "_view_module_version": "1.2.0",
       "_view_name": "StyleView",
       "description_width": ""
      }
     },
     "78f2f614dacf4f10976d132cf3fdb017": {
      "model_module": "@jupyter-widgets/base",
      "model_module_version": "1.2.0",
      "model_name": "LayoutModel",
      "state": {
       "_model_module": "@jupyter-widgets/base",
       "_model_module_version": "1.2.0",
       "_model_name": "LayoutModel",
       "_view_count": null,
       "_view_module": "@jupyter-widgets/base",
       "_view_module_version": "1.2.0",
       "_view_name": "LayoutView",
       "align_content": null,
       "align_items": null,
       "align_self": null,
       "border": null,
       "bottom": null,
       "display": null,
       "flex": null,
       "flex_flow": null,
       "grid_area": null,
       "grid_auto_columns": null,
       "grid_auto_flow": null,
       "grid_auto_rows": null,
       "grid_column": null,
       "grid_gap": null,
       "grid_row": null,
       "grid_template_areas": null,
       "grid_template_columns": null,
       "grid_template_rows": null,
       "height": null,
       "justify_content": null,
       "justify_items": null,
       "left": null,
       "margin": null,
       "max_height": null,
       "max_width": null,
       "min_height": null,
       "min_width": null,
       "object_fit": null,
       "object_position": null,
       "order": null,
       "overflow": null,
       "overflow_x": null,
       "overflow_y": null,
       "padding": null,
       "right": null,
       "top": null,
       "visibility": null,
       "width": null
      }
     },
     "7a3b284c67754caca79256edeac9588a": {
      "model_module": "@jupyter-widgets/controls",
      "model_module_version": "1.5.0",
      "model_name": "HBoxModel",
      "state": {
       "_dom_classes": [],
       "_model_module": "@jupyter-widgets/controls",
       "_model_module_version": "1.5.0",
       "_model_name": "HBoxModel",
       "_view_count": null,
       "_view_module": "@jupyter-widgets/controls",
       "_view_module_version": "1.5.0",
       "_view_name": "HBoxView",
       "box_style": "",
       "children": [
        "IPY_MODEL_20bacbd84d794e5ca0043419028884f1",
        "IPY_MODEL_3a1bda80c6ea4109866785c596098b20",
        "IPY_MODEL_7ffb9fcc405d4f32ba4edfe82b203284"
       ],
       "layout": "IPY_MODEL_aeb7bfad25294609ba0a922e42020f30"
      }
     },
     "7ce94117e1714bb69ef1b3b4323b15fa": {
      "model_module": "@jupyter-widgets/base",
      "model_module_version": "1.2.0",
      "model_name": "LayoutModel",
      "state": {
       "_model_module": "@jupyter-widgets/base",
       "_model_module_version": "1.2.0",
       "_model_name": "LayoutModel",
       "_view_count": null,
       "_view_module": "@jupyter-widgets/base",
       "_view_module_version": "1.2.0",
       "_view_name": "LayoutView",
       "align_content": null,
       "align_items": null,
       "align_self": null,
       "border": null,
       "bottom": null,
       "display": null,
       "flex": null,
       "flex_flow": null,
       "grid_area": null,
       "grid_auto_columns": null,
       "grid_auto_flow": null,
       "grid_auto_rows": null,
       "grid_column": null,
       "grid_gap": null,
       "grid_row": null,
       "grid_template_areas": null,
       "grid_template_columns": null,
       "grid_template_rows": null,
       "height": null,
       "justify_content": null,
       "justify_items": null,
       "left": null,
       "margin": null,
       "max_height": null,
       "max_width": null,
       "min_height": null,
       "min_width": null,
       "object_fit": null,
       "object_position": null,
       "order": null,
       "overflow": null,
       "overflow_x": null,
       "overflow_y": null,
       "padding": null,
       "right": null,
       "top": null,
       "visibility": null,
       "width": null
      }
     },
     "7ffb9fcc405d4f32ba4edfe82b203284": {
      "model_module": "@jupyter-widgets/controls",
      "model_module_version": "1.5.0",
      "model_name": "HTMLModel",
      "state": {
       "_dom_classes": [],
       "_model_module": "@jupyter-widgets/controls",
       "_model_module_version": "1.5.0",
       "_model_name": "HTMLModel",
       "_view_count": null,
       "_view_module": "@jupyter-widgets/controls",
       "_view_module_version": "1.5.0",
       "_view_name": "HTMLView",
       "description": "",
       "description_tooltip": null,
       "layout": "IPY_MODEL_9e9e48816aa1463eaca8fc30d1b3966c",
       "placeholder": "​",
       "style": "IPY_MODEL_5d4c7de6184341078af8b81639d8abd4",
       "value": " 505M/505M [00:09&lt;00:00, 50.0MB/s]"
      }
     },
     "8042e13c2f2841e8a01c94053eaf4198": {
      "model_module": "@jupyter-widgets/controls",
      "model_module_version": "1.5.0",
      "model_name": "ProgressStyleModel",
      "state": {
       "_model_module": "@jupyter-widgets/controls",
       "_model_module_version": "1.5.0",
       "_model_name": "ProgressStyleModel",
       "_view_count": null,
       "_view_module": "@jupyter-widgets/base",
       "_view_module_version": "1.2.0",
       "_view_name": "StyleView",
       "bar_color": null,
       "description_width": ""
      }
     },
     "8273d62101824b84b951e2a23420cd6c": {
      "model_module": "@jupyter-widgets/controls",
      "model_module_version": "1.5.0",
      "model_name": "FloatProgressModel",
      "state": {
       "_dom_classes": [],
       "_model_module": "@jupyter-widgets/controls",
       "_model_module_version": "1.5.0",
       "_model_name": "FloatProgressModel",
       "_view_count": null,
       "_view_module": "@jupyter-widgets/controls",
       "_view_module_version": "1.5.0",
       "_view_name": "ProgressView",
       "bar_style": "success",
       "description": "",
       "description_tooltip": null,
       "layout": "IPY_MODEL_8adb61acc7ad47b9b2db841537776325",
       "max": 1705,
       "min": 0,
       "orientation": "horizontal",
       "style": "IPY_MODEL_276b55a78ede4d3ba40d0d1b623bf8d8",
       "value": 1705
      }
     },
     "8326959ac950407a88741b970310036f": {
      "model_module": "@jupyter-widgets/base",
      "model_module_version": "1.2.0",
      "model_name": "LayoutModel",
      "state": {
       "_model_module": "@jupyter-widgets/base",
       "_model_module_version": "1.2.0",
       "_model_name": "LayoutModel",
       "_view_count": null,
       "_view_module": "@jupyter-widgets/base",
       "_view_module_version": "1.2.0",
       "_view_name": "LayoutView",
       "align_content": null,
       "align_items": null,
       "align_self": null,
       "border": null,
       "bottom": null,
       "display": null,
       "flex": null,
       "flex_flow": null,
       "grid_area": null,
       "grid_auto_columns": null,
       "grid_auto_flow": null,
       "grid_auto_rows": null,
       "grid_column": null,
       "grid_gap": null,
       "grid_row": null,
       "grid_template_areas": null,
       "grid_template_columns": null,
       "grid_template_rows": null,
       "height": null,
       "justify_content": null,
       "justify_items": null,
       "left": null,
       "margin": null,
       "max_height": null,
       "max_width": null,
       "min_height": null,
       "min_width": null,
       "object_fit": null,
       "object_position": null,
       "order": null,
       "overflow": null,
       "overflow_x": null,
       "overflow_y": null,
       "padding": null,
       "right": null,
       "top": null,
       "visibility": null,
       "width": null
      }
     },
     "85b9481616b84a3f95c4c5c7b4d84164": {
      "model_module": "@jupyter-widgets/controls",
      "model_module_version": "1.5.0",
      "model_name": "HTMLModel",
      "state": {
       "_dom_classes": [],
       "_model_module": "@jupyter-widgets/controls",
       "_model_module_version": "1.5.0",
       "_model_name": "HTMLModel",
       "_view_count": null,
       "_view_module": "@jupyter-widgets/controls",
       "_view_module_version": "1.5.0",
       "_view_name": "HTMLView",
       "description": "",
       "description_tooltip": null,
       "layout": "IPY_MODEL_55e730bab7ad4a75952a0320311d4561",
       "placeholder": "​",
       "style": "IPY_MODEL_9796bcfc5d864bd09f9f01b39d3f642a",
       "value": "100%"
      }
     },
     "89b15d74b5e94314b3550f05942b57f8": {
      "model_module": "@jupyter-widgets/base",
      "model_module_version": "1.2.0",
      "model_name": "LayoutModel",
      "state": {
       "_model_module": "@jupyter-widgets/base",
       "_model_module_version": "1.2.0",
       "_model_name": "LayoutModel",
       "_view_count": null,
       "_view_module": "@jupyter-widgets/base",
       "_view_module_version": "1.2.0",
       "_view_name": "LayoutView",
       "align_content": null,
       "align_items": null,
       "align_self": null,
       "border": null,
       "bottom": null,
       "display": null,
       "flex": null,
       "flex_flow": null,
       "grid_area": null,
       "grid_auto_columns": null,
       "grid_auto_flow": null,
       "grid_auto_rows": null,
       "grid_column": null,
       "grid_gap": null,
       "grid_row": null,
       "grid_template_areas": null,
       "grid_template_columns": null,
       "grid_template_rows": null,
       "height": null,
       "justify_content": null,
       "justify_items": null,
       "left": null,
       "margin": null,
       "max_height": null,
       "max_width": null,
       "min_height": null,
       "min_width": null,
       "object_fit": null,
       "object_position": null,
       "order": null,
       "overflow": null,
       "overflow_x": null,
       "overflow_y": null,
       "padding": null,
       "right": null,
       "top": null,
       "visibility": null,
       "width": null
      }
     },
     "8a4758ca3c4c4f7586a033104bc67d25": {
      "model_module": "@jupyter-widgets/base",
      "model_module_version": "1.2.0",
      "model_name": "LayoutModel",
      "state": {
       "_model_module": "@jupyter-widgets/base",
       "_model_module_version": "1.2.0",
       "_model_name": "LayoutModel",
       "_view_count": null,
       "_view_module": "@jupyter-widgets/base",
       "_view_module_version": "1.2.0",
       "_view_name": "LayoutView",
       "align_content": null,
       "align_items": null,
       "align_self": null,
       "border": null,
       "bottom": null,
       "display": null,
       "flex": null,
       "flex_flow": null,
       "grid_area": null,
       "grid_auto_columns": null,
       "grid_auto_flow": null,
       "grid_auto_rows": null,
       "grid_column": null,
       "grid_gap": null,
       "grid_row": null,
       "grid_template_areas": null,
       "grid_template_columns": null,
       "grid_template_rows": null,
       "height": null,
       "justify_content": null,
       "justify_items": null,
       "left": null,
       "margin": null,
       "max_height": null,
       "max_width": null,
       "min_height": null,
       "min_width": null,
       "object_fit": null,
       "object_position": null,
       "order": null,
       "overflow": null,
       "overflow_x": null,
       "overflow_y": null,
       "padding": null,
       "right": null,
       "top": null,
       "visibility": null,
       "width": null
      }
     },
     "8adb61acc7ad47b9b2db841537776325": {
      "model_module": "@jupyter-widgets/base",
      "model_module_version": "1.2.0",
      "model_name": "LayoutModel",
      "state": {
       "_model_module": "@jupyter-widgets/base",
       "_model_module_version": "1.2.0",
       "_model_name": "LayoutModel",
       "_view_count": null,
       "_view_module": "@jupyter-widgets/base",
       "_view_module_version": "1.2.0",
       "_view_name": "LayoutView",
       "align_content": null,
       "align_items": null,
       "align_self": null,
       "border": null,
       "bottom": null,
       "display": null,
       "flex": null,
       "flex_flow": null,
       "grid_area": null,
       "grid_auto_columns": null,
       "grid_auto_flow": null,
       "grid_auto_rows": null,
       "grid_column": null,
       "grid_gap": null,
       "grid_row": null,
       "grid_template_areas": null,
       "grid_template_columns": null,
       "grid_template_rows": null,
       "height": null,
       "justify_content": null,
       "justify_items": null,
       "left": null,
       "margin": null,
       "max_height": null,
       "max_width": null,
       "min_height": null,
       "min_width": null,
       "object_fit": null,
       "object_position": null,
       "order": null,
       "overflow": null,
       "overflow_x": null,
       "overflow_y": null,
       "padding": null,
       "right": null,
       "top": null,
       "visibility": null,
       "width": null
      }
     },
     "90f16b92ca8f48afae608e6257a3e93b": {
      "model_module": "@jupyter-widgets/controls",
      "model_module_version": "1.5.0",
      "model_name": "HTMLModel",
      "state": {
       "_dom_classes": [],
       "_model_module": "@jupyter-widgets/controls",
       "_model_module_version": "1.5.0",
       "_model_name": "HTMLModel",
       "_view_count": null,
       "_view_module": "@jupyter-widgets/controls",
       "_view_module_version": "1.5.0",
       "_view_name": "HTMLView",
       "description": "",
       "description_tooltip": null,
       "layout": "IPY_MODEL_14081a8e323f4c89b0cbdde040cba412",
       "placeholder": "​",
       "style": "IPY_MODEL_599dd97b02234f13ac317f3585f65317",
       "value": " 483/483 [00:24&lt;00:00, 48.27it/s]"
      }
     },
     "92f3f79c50af4542b281d2f2157ca1e6": {
      "model_module": "@jupyter-widgets/controls",
      "model_module_version": "1.5.0",
      "model_name": "HBoxModel",
      "state": {
       "_dom_classes": [],
       "_model_module": "@jupyter-widgets/controls",
       "_model_module_version": "1.5.0",
       "_model_name": "HBoxModel",
       "_view_count": null,
       "_view_module": "@jupyter-widgets/controls",
       "_view_module_version": "1.5.0",
       "_view_name": "HBoxView",
       "box_style": "",
       "children": [
        "IPY_MODEL_d4074223db254863922a0955b417d35d",
        "IPY_MODEL_8273d62101824b84b951e2a23420cd6c",
        "IPY_MODEL_9e2a628d616340b9bc00b4d4173b8508"
       ],
       "layout": "IPY_MODEL_7086e37563494848b416161fc28067e2"
      }
     },
     "942a981e3f24467da6d4e1b59a5b1123": {
      "model_module": "@jupyter-widgets/base",
      "model_module_version": "1.2.0",
      "model_name": "LayoutModel",
      "state": {
       "_model_module": "@jupyter-widgets/base",
       "_model_module_version": "1.2.0",
       "_model_name": "LayoutModel",
       "_view_count": null,
       "_view_module": "@jupyter-widgets/base",
       "_view_module_version": "1.2.0",
       "_view_name": "LayoutView",
       "align_content": null,
       "align_items": null,
       "align_self": null,
       "border": null,
       "bottom": null,
       "display": null,
       "flex": null,
       "flex_flow": null,
       "grid_area": null,
       "grid_auto_columns": null,
       "grid_auto_flow": null,
       "grid_auto_rows": null,
       "grid_column": null,
       "grid_gap": null,
       "grid_row": null,
       "grid_template_areas": null,
       "grid_template_columns": null,
       "grid_template_rows": null,
       "height": null,
       "justify_content": null,
       "justify_items": null,
       "left": null,
       "margin": null,
       "max_height": null,
       "max_width": null,
       "min_height": null,
       "min_width": null,
       "object_fit": null,
       "object_position": null,
       "order": null,
       "overflow": null,
       "overflow_x": null,
       "overflow_y": null,
       "padding": null,
       "right": null,
       "top": null,
       "visibility": null,
       "width": null
      }
     },
     "9793cad440e74baebd93a12c67955605": {
      "model_module": "@jupyter-widgets/base",
      "model_module_version": "1.2.0",
      "model_name": "LayoutModel",
      "state": {
       "_model_module": "@jupyter-widgets/base",
       "_model_module_version": "1.2.0",
       "_model_name": "LayoutModel",
       "_view_count": null,
       "_view_module": "@jupyter-widgets/base",
       "_view_module_version": "1.2.0",
       "_view_name": "LayoutView",
       "align_content": null,
       "align_items": null,
       "align_self": null,
       "border": null,
       "bottom": null,
       "display": null,
       "flex": null,
       "flex_flow": null,
       "grid_area": null,
       "grid_auto_columns": null,
       "grid_auto_flow": null,
       "grid_auto_rows": null,
       "grid_column": null,
       "grid_gap": null,
       "grid_row": null,
       "grid_template_areas": null,
       "grid_template_columns": null,
       "grid_template_rows": null,
       "height": null,
       "justify_content": null,
       "justify_items": null,
       "left": null,
       "margin": null,
       "max_height": null,
       "max_width": null,
       "min_height": null,
       "min_width": null,
       "object_fit": null,
       "object_position": null,
       "order": null,
       "overflow": null,
       "overflow_x": null,
       "overflow_y": null,
       "padding": null,
       "right": null,
       "top": null,
       "visibility": null,
       "width": null
      }
     },
     "9796bcfc5d864bd09f9f01b39d3f642a": {
      "model_module": "@jupyter-widgets/controls",
      "model_module_version": "1.5.0",
      "model_name": "DescriptionStyleModel",
      "state": {
       "_model_module": "@jupyter-widgets/controls",
       "_model_module_version": "1.5.0",
       "_model_name": "DescriptionStyleModel",
       "_view_count": null,
       "_view_module": "@jupyter-widgets/base",
       "_view_module_version": "1.2.0",
       "_view_name": "StyleView",
       "description_width": ""
      }
     },
     "9885e9b47f004d4398a95eb4dc2cce40": {
      "model_module": "@jupyter-widgets/controls",
      "model_module_version": "1.5.0",
      "model_name": "FloatProgressModel",
      "state": {
       "_dom_classes": [],
       "_model_module": "@jupyter-widgets/controls",
       "_model_module_version": "1.5.0",
       "_model_name": "FloatProgressModel",
       "_view_count": null,
       "_view_module": "@jupyter-widgets/controls",
       "_view_module_version": "1.5.0",
       "_view_name": "ProgressView",
       "bar_style": "success",
       "description": "",
       "description_tooltip": null,
       "layout": "IPY_MODEL_37fdbb5a7bc94720b51017c598316c6c",
       "max": 4,
       "min": 0,
       "orientation": "horizontal",
       "style": "IPY_MODEL_15a1bb2e4a4a424885715a7be95d3df8",
       "value": 4
      }
     },
     "99006d607c0f44dd82aee6b5ebcd501e": {
      "model_module": "@jupyter-widgets/controls",
      "model_module_version": "1.5.0",
      "model_name": "DescriptionStyleModel",
      "state": {
       "_model_module": "@jupyter-widgets/controls",
       "_model_module_version": "1.5.0",
       "_model_name": "DescriptionStyleModel",
       "_view_count": null,
       "_view_module": "@jupyter-widgets/base",
       "_view_module_version": "1.2.0",
       "_view_name": "StyleView",
       "description_width": ""
      }
     },
     "9c20f29f7fb64a94ac5abf833ab6df41": {
      "model_module": "@jupyter-widgets/base",
      "model_module_version": "1.2.0",
      "model_name": "LayoutModel",
      "state": {
       "_model_module": "@jupyter-widgets/base",
       "_model_module_version": "1.2.0",
       "_model_name": "LayoutModel",
       "_view_count": null,
       "_view_module": "@jupyter-widgets/base",
       "_view_module_version": "1.2.0",
       "_view_name": "LayoutView",
       "align_content": null,
       "align_items": null,
       "align_self": null,
       "border": null,
       "bottom": null,
       "display": null,
       "flex": null,
       "flex_flow": null,
       "grid_area": null,
       "grid_auto_columns": null,
       "grid_auto_flow": null,
       "grid_auto_rows": null,
       "grid_column": null,
       "grid_gap": null,
       "grid_row": null,
       "grid_template_areas": null,
       "grid_template_columns": null,
       "grid_template_rows": null,
       "height": null,
       "justify_content": null,
       "justify_items": null,
       "left": null,
       "margin": null,
       "max_height": null,
       "max_width": null,
       "min_height": null,
       "min_width": null,
       "object_fit": null,
       "object_position": null,
       "order": null,
       "overflow": null,
       "overflow_x": null,
       "overflow_y": null,
       "padding": null,
       "right": null,
       "top": null,
       "visibility": null,
       "width": null
      }
     },
     "9e2a628d616340b9bc00b4d4173b8508": {
      "model_module": "@jupyter-widgets/controls",
      "model_module_version": "1.5.0",
      "model_name": "HTMLModel",
      "state": {
       "_dom_classes": [],
       "_model_module": "@jupyter-widgets/controls",
       "_model_module_version": "1.5.0",
       "_model_name": "HTMLModel",
       "_view_count": null,
       "_view_module": "@jupyter-widgets/controls",
       "_view_module_version": "1.5.0",
       "_view_name": "HTMLView",
       "description": "",
       "description_tooltip": null,
       "layout": "IPY_MODEL_8a4758ca3c4c4f7586a033104bc67d25",
       "placeholder": "​",
       "style": "IPY_MODEL_70b263615d044d6595173d9653a6fc45",
       "value": " 1705/1705 [00:50&lt;00:00, 45.71it/s]"
      }
     },
     "9e9e48816aa1463eaca8fc30d1b3966c": {
      "model_module": "@jupyter-widgets/base",
      "model_module_version": "1.2.0",
      "model_name": "LayoutModel",
      "state": {
       "_model_module": "@jupyter-widgets/base",
       "_model_module_version": "1.2.0",
       "_model_name": "LayoutModel",
       "_view_count": null,
       "_view_module": "@jupyter-widgets/base",
       "_view_module_version": "1.2.0",
       "_view_name": "LayoutView",
       "align_content": null,
       "align_items": null,
       "align_self": null,
       "border": null,
       "bottom": null,
       "display": null,
       "flex": null,
       "flex_flow": null,
       "grid_area": null,
       "grid_auto_columns": null,
       "grid_auto_flow": null,
       "grid_auto_rows": null,
       "grid_column": null,
       "grid_gap": null,
       "grid_row": null,
       "grid_template_areas": null,
       "grid_template_columns": null,
       "grid_template_rows": null,
       "height": null,
       "justify_content": null,
       "justify_items": null,
       "left": null,
       "margin": null,
       "max_height": null,
       "max_width": null,
       "min_height": null,
       "min_width": null,
       "object_fit": null,
       "object_position": null,
       "order": null,
       "overflow": null,
       "overflow_x": null,
       "overflow_y": null,
       "padding": null,
       "right": null,
       "top": null,
       "visibility": null,
       "width": null
      }
     },
     "a40fd10062e1411486d83df7437b6b2b": {
      "model_module": "@jupyter-widgets/base",
      "model_module_version": "1.2.0",
      "model_name": "LayoutModel",
      "state": {
       "_model_module": "@jupyter-widgets/base",
       "_model_module_version": "1.2.0",
       "_model_name": "LayoutModel",
       "_view_count": null,
       "_view_module": "@jupyter-widgets/base",
       "_view_module_version": "1.2.0",
       "_view_name": "LayoutView",
       "align_content": null,
       "align_items": null,
       "align_self": null,
       "border": null,
       "bottom": null,
       "display": null,
       "flex": null,
       "flex_flow": null,
       "grid_area": null,
       "grid_auto_columns": null,
       "grid_auto_flow": null,
       "grid_auto_rows": null,
       "grid_column": null,
       "grid_gap": null,
       "grid_row": null,
       "grid_template_areas": null,
       "grid_template_columns": null,
       "grid_template_rows": null,
       "height": null,
       "justify_content": null,
       "justify_items": null,
       "left": null,
       "margin": null,
       "max_height": null,
       "max_width": null,
       "min_height": null,
       "min_width": null,
       "object_fit": null,
       "object_position": null,
       "order": null,
       "overflow": null,
       "overflow_x": null,
       "overflow_y": null,
       "padding": null,
       "right": null,
       "top": null,
       "visibility": null,
       "width": null
      }
     },
     "a913a3e99f71415c9aabf6ce85176279": {
      "model_module": "@jupyter-widgets/controls",
      "model_module_version": "1.5.0",
      "model_name": "HTMLModel",
      "state": {
       "_dom_classes": [],
       "_model_module": "@jupyter-widgets/controls",
       "_model_module_version": "1.5.0",
       "_model_name": "HTMLModel",
       "_view_count": null,
       "_view_module": "@jupyter-widgets/controls",
       "_view_module_version": "1.5.0",
       "_view_name": "HTMLView",
       "description": "",
       "description_tooltip": null,
       "layout": "IPY_MODEL_1a31acba93834a3ba423d564804012fa",
       "placeholder": "​",
       "style": "IPY_MODEL_5f6ad8098a6340559770e52d75310de1",
       "value": "100%"
      }
     },
     "ad2aba4e09794a73b51f9a554257c35d": {
      "model_module": "@jupyter-widgets/controls",
      "model_module_version": "1.5.0",
      "model_name": "HBoxModel",
      "state": {
       "_dom_classes": [],
       "_model_module": "@jupyter-widgets/controls",
       "_model_module_version": "1.5.0",
       "_model_name": "HBoxModel",
       "_view_count": null,
       "_view_module": "@jupyter-widgets/controls",
       "_view_module_version": "1.5.0",
       "_view_name": "HBoxView",
       "box_style": "",
       "children": [
        "IPY_MODEL_a913a3e99f71415c9aabf6ce85176279",
        "IPY_MODEL_20e00dbd2b9841abad49587112f0b6d3",
        "IPY_MODEL_e9d46b87c61548be81f1f8c4e03f7b7c"
       ],
       "layout": "IPY_MODEL_65e7802bf1404a3094666054e052922d"
      }
     },
     "aeb7bfad25294609ba0a922e42020f30": {
      "model_module": "@jupyter-widgets/base",
      "model_module_version": "1.2.0",
      "model_name": "LayoutModel",
      "state": {
       "_model_module": "@jupyter-widgets/base",
       "_model_module_version": "1.2.0",
       "_model_name": "LayoutModel",
       "_view_count": null,
       "_view_module": "@jupyter-widgets/base",
       "_view_module_version": "1.2.0",
       "_view_name": "LayoutView",
       "align_content": null,
       "align_items": null,
       "align_self": null,
       "border": null,
       "bottom": null,
       "display": null,
       "flex": null,
       "flex_flow": null,
       "grid_area": null,
       "grid_auto_columns": null,
       "grid_auto_flow": null,
       "grid_auto_rows": null,
       "grid_column": null,
       "grid_gap": null,
       "grid_row": null,
       "grid_template_areas": null,
       "grid_template_columns": null,
       "grid_template_rows": null,
       "height": null,
       "justify_content": null,
       "justify_items": null,
       "left": null,
       "margin": null,
       "max_height": null,
       "max_width": null,
       "min_height": null,
       "min_width": null,
       "object_fit": null,
       "object_position": null,
       "order": null,
       "overflow": null,
       "overflow_x": null,
       "overflow_y": null,
       "padding": null,
       "right": null,
       "top": null,
       "visibility": null,
       "width": null
      }
     },
     "b951f6d4df134c4ebaab5e7bc53bcf31": {
      "model_module": "@jupyter-widgets/controls",
      "model_module_version": "1.5.0",
      "model_name": "DescriptionStyleModel",
      "state": {
       "_model_module": "@jupyter-widgets/controls",
       "_model_module_version": "1.5.0",
       "_model_name": "DescriptionStyleModel",
       "_view_count": null,
       "_view_module": "@jupyter-widgets/base",
       "_view_module_version": "1.2.0",
       "_view_name": "StyleView",
       "description_width": ""
      }
     },
     "bd5741c7ab7948eba84a7700c1e1cc73": {
      "model_module": "@jupyter-widgets/controls",
      "model_module_version": "1.5.0",
      "model_name": "DescriptionStyleModel",
      "state": {
       "_model_module": "@jupyter-widgets/controls",
       "_model_module_version": "1.5.0",
       "_model_name": "DescriptionStyleModel",
       "_view_count": null,
       "_view_module": "@jupyter-widgets/base",
       "_view_module_version": "1.2.0",
       "_view_name": "StyleView",
       "description_width": ""
      }
     },
     "bdd5b1cffe554fbc96328d8429c57154": {
      "model_module": "@jupyter-widgets/base",
      "model_module_version": "1.2.0",
      "model_name": "LayoutModel",
      "state": {
       "_model_module": "@jupyter-widgets/base",
       "_model_module_version": "1.2.0",
       "_model_name": "LayoutModel",
       "_view_count": null,
       "_view_module": "@jupyter-widgets/base",
       "_view_module_version": "1.2.0",
       "_view_name": "LayoutView",
       "align_content": null,
       "align_items": null,
       "align_self": null,
       "border": null,
       "bottom": null,
       "display": null,
       "flex": null,
       "flex_flow": null,
       "grid_area": null,
       "grid_auto_columns": null,
       "grid_auto_flow": null,
       "grid_auto_rows": null,
       "grid_column": null,
       "grid_gap": null,
       "grid_row": null,
       "grid_template_areas": null,
       "grid_template_columns": null,
       "grid_template_rows": null,
       "height": null,
       "justify_content": null,
       "justify_items": null,
       "left": null,
       "margin": null,
       "max_height": null,
       "max_width": null,
       "min_height": null,
       "min_width": null,
       "object_fit": null,
       "object_position": null,
       "order": null,
       "overflow": null,
       "overflow_x": null,
       "overflow_y": null,
       "padding": null,
       "right": null,
       "top": null,
       "visibility": null,
       "width": null
      }
     },
     "be80030926de46c5a3691b21dc644717": {
      "model_module": "@jupyter-widgets/base",
      "model_module_version": "1.2.0",
      "model_name": "LayoutModel",
      "state": {
       "_model_module": "@jupyter-widgets/base",
       "_model_module_version": "1.2.0",
       "_model_name": "LayoutModel",
       "_view_count": null,
       "_view_module": "@jupyter-widgets/base",
       "_view_module_version": "1.2.0",
       "_view_name": "LayoutView",
       "align_content": null,
       "align_items": null,
       "align_self": null,
       "border": null,
       "bottom": null,
       "display": null,
       "flex": null,
       "flex_flow": null,
       "grid_area": null,
       "grid_auto_columns": null,
       "grid_auto_flow": null,
       "grid_auto_rows": null,
       "grid_column": null,
       "grid_gap": null,
       "grid_row": null,
       "grid_template_areas": null,
       "grid_template_columns": null,
       "grid_template_rows": null,
       "height": null,
       "justify_content": null,
       "justify_items": null,
       "left": null,
       "margin": null,
       "max_height": null,
       "max_width": null,
       "min_height": null,
       "min_width": null,
       "object_fit": null,
       "object_position": null,
       "order": null,
       "overflow": null,
       "overflow_x": null,
       "overflow_y": null,
       "padding": null,
       "right": null,
       "top": null,
       "visibility": null,
       "width": null
      }
     },
     "c18a1960addd4052ab964dc9072fa55e": {
      "model_module": "@jupyter-widgets/controls",
      "model_module_version": "1.5.0",
      "model_name": "HTMLModel",
      "state": {
       "_dom_classes": [],
       "_model_module": "@jupyter-widgets/controls",
       "_model_module_version": "1.5.0",
       "_model_name": "HTMLModel",
       "_view_count": null,
       "_view_module": "@jupyter-widgets/controls",
       "_view_module_version": "1.5.0",
       "_view_name": "HTMLView",
       "description": "",
       "description_tooltip": null,
       "layout": "IPY_MODEL_1f0fd59fa96a478eb27907f10ee10677",
       "placeholder": "​",
       "style": "IPY_MODEL_c62ffc23aec84055aa95f9cf46ac742e",
       "value": " 1705/1705 [00:54&lt;00:00, 44.69it/s]"
      }
     },
     "c6205bb11248461cb3d0e20e1c84204c": {
      "model_module": "@jupyter-widgets/base",
      "model_module_version": "1.2.0",
      "model_name": "LayoutModel",
      "state": {
       "_model_module": "@jupyter-widgets/base",
       "_model_module_version": "1.2.0",
       "_model_name": "LayoutModel",
       "_view_count": null,
       "_view_module": "@jupyter-widgets/base",
       "_view_module_version": "1.2.0",
       "_view_name": "LayoutView",
       "align_content": null,
       "align_items": null,
       "align_self": null,
       "border": null,
       "bottom": null,
       "display": null,
       "flex": null,
       "flex_flow": null,
       "grid_area": null,
       "grid_auto_columns": null,
       "grid_auto_flow": null,
       "grid_auto_rows": null,
       "grid_column": null,
       "grid_gap": null,
       "grid_row": null,
       "grid_template_areas": null,
       "grid_template_columns": null,
       "grid_template_rows": null,
       "height": null,
       "justify_content": null,
       "justify_items": null,
       "left": null,
       "margin": null,
       "max_height": null,
       "max_width": null,
       "min_height": null,
       "min_width": null,
       "object_fit": null,
       "object_position": null,
       "order": null,
       "overflow": null,
       "overflow_x": null,
       "overflow_y": null,
       "padding": null,
       "right": null,
       "top": null,
       "visibility": null,
       "width": null
      }
     },
     "c62ffc23aec84055aa95f9cf46ac742e": {
      "model_module": "@jupyter-widgets/controls",
      "model_module_version": "1.5.0",
      "model_name": "DescriptionStyleModel",
      "state": {
       "_model_module": "@jupyter-widgets/controls",
       "_model_module_version": "1.5.0",
       "_model_name": "DescriptionStyleModel",
       "_view_count": null,
       "_view_module": "@jupyter-widgets/base",
       "_view_module_version": "1.2.0",
       "_view_name": "StyleView",
       "description_width": ""
      }
     },
     "c775cc18c5304bca9d518ef4d5b4ce3a": {
      "model_module": "@jupyter-widgets/base",
      "model_module_version": "1.2.0",
      "model_name": "LayoutModel",
      "state": {
       "_model_module": "@jupyter-widgets/base",
       "_model_module_version": "1.2.0",
       "_model_name": "LayoutModel",
       "_view_count": null,
       "_view_module": "@jupyter-widgets/base",
       "_view_module_version": "1.2.0",
       "_view_name": "LayoutView",
       "align_content": null,
       "align_items": null,
       "align_self": null,
       "border": null,
       "bottom": null,
       "display": null,
       "flex": null,
       "flex_flow": null,
       "grid_area": null,
       "grid_auto_columns": null,
       "grid_auto_flow": null,
       "grid_auto_rows": null,
       "grid_column": null,
       "grid_gap": null,
       "grid_row": null,
       "grid_template_areas": null,
       "grid_template_columns": null,
       "grid_template_rows": null,
       "height": null,
       "justify_content": null,
       "justify_items": null,
       "left": null,
       "margin": null,
       "max_height": null,
       "max_width": null,
       "min_height": null,
       "min_width": null,
       "object_fit": null,
       "object_position": null,
       "order": null,
       "overflow": null,
       "overflow_x": null,
       "overflow_y": null,
       "padding": null,
       "right": null,
       "top": null,
       "visibility": null,
       "width": null
      }
     },
     "d25da6bb521741b2a7ad7e39d1b73ea1": {
      "model_module": "@jupyter-widgets/controls",
      "model_module_version": "1.5.0",
      "model_name": "HTMLModel",
      "state": {
       "_dom_classes": [],
       "_model_module": "@jupyter-widgets/controls",
       "_model_module_version": "1.5.0",
       "_model_name": "HTMLModel",
       "_view_count": null,
       "_view_module": "@jupyter-widgets/controls",
       "_view_module_version": "1.5.0",
       "_view_name": "HTMLView",
       "description": "",
       "description_tooltip": null,
       "layout": "IPY_MODEL_d92a1bbef3e04df29cca8cffaa129a2a",
       "placeholder": "​",
       "style": "IPY_MODEL_e173131628c842d5bb377c7428d686e4",
       "value": "100%"
      }
     },
     "d4074223db254863922a0955b417d35d": {
      "model_module": "@jupyter-widgets/controls",
      "model_module_version": "1.5.0",
      "model_name": "HTMLModel",
      "state": {
       "_dom_classes": [],
       "_model_module": "@jupyter-widgets/controls",
       "_model_module_version": "1.5.0",
       "_model_name": "HTMLModel",
       "_view_count": null,
       "_view_module": "@jupyter-widgets/controls",
       "_view_module_version": "1.5.0",
       "_view_name": "HTMLView",
       "description": "",
       "description_tooltip": null,
       "layout": "IPY_MODEL_89b15d74b5e94314b3550f05942b57f8",
       "placeholder": "​",
       "style": "IPY_MODEL_b951f6d4df134c4ebaab5e7bc53bcf31",
       "value": "100%"
      }
     },
     "d6663f70b4a04e23b94c0a4b422e7469": {
      "model_module": "@jupyter-widgets/controls",
      "model_module_version": "1.5.0",
      "model_name": "HBoxModel",
      "state": {
       "_dom_classes": [],
       "_model_module": "@jupyter-widgets/controls",
       "_model_module_version": "1.5.0",
       "_model_name": "HBoxModel",
       "_view_count": null,
       "_view_module": "@jupyter-widgets/controls",
       "_view_module_version": "1.5.0",
       "_view_name": "HBoxView",
       "box_style": "",
       "children": [
        "IPY_MODEL_85b9481616b84a3f95c4c5c7b4d84164",
        "IPY_MODEL_e3412ba9990549a8ab58e69f701ae93d",
        "IPY_MODEL_90f16b92ca8f48afae608e6257a3e93b"
       ],
       "layout": "IPY_MODEL_7401521760c54177826a1eff11e266b8"
      }
     },
     "d92a1bbef3e04df29cca8cffaa129a2a": {
      "model_module": "@jupyter-widgets/base",
      "model_module_version": "1.2.0",
      "model_name": "LayoutModel",
      "state": {
       "_model_module": "@jupyter-widgets/base",
       "_model_module_version": "1.2.0",
       "_model_name": "LayoutModel",
       "_view_count": null,
       "_view_module": "@jupyter-widgets/base",
       "_view_module_version": "1.2.0",
       "_view_name": "LayoutView",
       "align_content": null,
       "align_items": null,
       "align_self": null,
       "border": null,
       "bottom": null,
       "display": null,
       "flex": null,
       "flex_flow": null,
       "grid_area": null,
       "grid_auto_columns": null,
       "grid_auto_flow": null,
       "grid_auto_rows": null,
       "grid_column": null,
       "grid_gap": null,
       "grid_row": null,
       "grid_template_areas": null,
       "grid_template_columns": null,
       "grid_template_rows": null,
       "height": null,
       "justify_content": null,
       "justify_items": null,
       "left": null,
       "margin": null,
       "max_height": null,
       "max_width": null,
       "min_height": null,
       "min_width": null,
       "object_fit": null,
       "object_position": null,
       "order": null,
       "overflow": null,
       "overflow_x": null,
       "overflow_y": null,
       "padding": null,
       "right": null,
       "top": null,
       "visibility": null,
       "width": null
      }
     },
     "dc5fee7f354844568fd5580b660f5f8b": {
      "model_module": "@jupyter-widgets/base",
      "model_module_version": "1.2.0",
      "model_name": "LayoutModel",
      "state": {
       "_model_module": "@jupyter-widgets/base",
       "_model_module_version": "1.2.0",
       "_model_name": "LayoutModel",
       "_view_count": null,
       "_view_module": "@jupyter-widgets/base",
       "_view_module_version": "1.2.0",
       "_view_name": "LayoutView",
       "align_content": null,
       "align_items": null,
       "align_self": null,
       "border": null,
       "bottom": null,
       "display": null,
       "flex": null,
       "flex_flow": null,
       "grid_area": null,
       "grid_auto_columns": null,
       "grid_auto_flow": null,
       "grid_auto_rows": null,
       "grid_column": null,
       "grid_gap": null,
       "grid_row": null,
       "grid_template_areas": null,
       "grid_template_columns": null,
       "grid_template_rows": null,
       "height": null,
       "justify_content": null,
       "justify_items": null,
       "left": null,
       "margin": null,
       "max_height": null,
       "max_width": null,
       "min_height": null,
       "min_width": null,
       "object_fit": null,
       "object_position": null,
       "order": null,
       "overflow": null,
       "overflow_x": null,
       "overflow_y": null,
       "padding": null,
       "right": null,
       "top": null,
       "visibility": null,
       "width": null
      }
     },
     "e173131628c842d5bb377c7428d686e4": {
      "model_module": "@jupyter-widgets/controls",
      "model_module_version": "1.5.0",
      "model_name": "DescriptionStyleModel",
      "state": {
       "_model_module": "@jupyter-widgets/controls",
       "_model_module_version": "1.5.0",
       "_model_name": "DescriptionStyleModel",
       "_view_count": null,
       "_view_module": "@jupyter-widgets/base",
       "_view_module_version": "1.2.0",
       "_view_name": "StyleView",
       "description_width": ""
      }
     },
     "e3412ba9990549a8ab58e69f701ae93d": {
      "model_module": "@jupyter-widgets/controls",
      "model_module_version": "1.5.0",
      "model_name": "FloatProgressModel",
      "state": {
       "_dom_classes": [],
       "_model_module": "@jupyter-widgets/controls",
       "_model_module_version": "1.5.0",
       "_model_name": "FloatProgressModel",
       "_view_count": null,
       "_view_module": "@jupyter-widgets/controls",
       "_view_module_version": "1.5.0",
       "_view_name": "ProgressView",
       "bar_style": "success",
       "description": "",
       "description_tooltip": null,
       "layout": "IPY_MODEL_c775cc18c5304bca9d518ef4d5b4ce3a",
       "max": 483,
       "min": 0,
       "orientation": "horizontal",
       "style": "IPY_MODEL_03239c7745ca441e87ee118c7b7a2e1f",
       "value": 483
      }
     },
     "e9d46b87c61548be81f1f8c4e03f7b7c": {
      "model_module": "@jupyter-widgets/controls",
      "model_module_version": "1.5.0",
      "model_name": "HTMLModel",
      "state": {
       "_dom_classes": [],
       "_model_module": "@jupyter-widgets/controls",
       "_model_module_version": "1.5.0",
       "_model_name": "HTMLModel",
       "_view_count": null,
       "_view_module": "@jupyter-widgets/controls",
       "_view_module_version": "1.5.0",
       "_view_name": "HTMLView",
       "description": "",
       "description_tooltip": null,
       "layout": "IPY_MODEL_78f2f614dacf4f10976d132cf3fdb017",
       "placeholder": "​",
       "style": "IPY_MODEL_3240bc3e3edf4e839628d6266bcdfafa",
       "value": " 483/483 [00:24&lt;00:00, 45.73it/s]"
      }
     },
     "ed2cb32e6c9b47819c37e97d31dd959a": {
      "model_module": "@jupyter-widgets/controls",
      "model_module_version": "1.5.0",
      "model_name": "FloatProgressModel",
      "state": {
       "_dom_classes": [],
       "_model_module": "@jupyter-widgets/controls",
       "_model_module_version": "1.5.0",
       "_model_name": "FloatProgressModel",
       "_view_count": null,
       "_view_module": "@jupyter-widgets/controls",
       "_view_module_version": "1.5.0",
       "_view_name": "ProgressView",
       "bar_style": "success",
       "description": "",
       "description_tooltip": null,
       "layout": "IPY_MODEL_8326959ac950407a88741b970310036f",
       "max": 1705,
       "min": 0,
       "orientation": "horizontal",
       "style": "IPY_MODEL_36ecd8b5dfb24955b9bb22b5d13a903e",
       "value": 1705
      }
     },
     "f4c08dff7e6141648332b48d2633e477": {
      "model_module": "@jupyter-widgets/controls",
      "model_module_version": "1.5.0",
      "model_name": "DescriptionStyleModel",
      "state": {
       "_model_module": "@jupyter-widgets/controls",
       "_model_module_version": "1.5.0",
       "_model_name": "DescriptionStyleModel",
       "_view_count": null,
       "_view_module": "@jupyter-widgets/base",
       "_view_module_version": "1.2.0",
       "_view_name": "StyleView",
       "description_width": ""
      }
     },
     "f6703e1b17734577b4056160d2822c78": {
      "model_module": "@jupyter-widgets/controls",
      "model_module_version": "1.5.0",
      "model_name": "ProgressStyleModel",
      "state": {
       "_model_module": "@jupyter-widgets/controls",
       "_model_module_version": "1.5.0",
       "_model_name": "ProgressStyleModel",
       "_view_count": null,
       "_view_module": "@jupyter-widgets/base",
       "_view_module_version": "1.2.0",
       "_view_name": "StyleView",
       "bar_color": null,
       "description_width": ""
      }
     },
     "fb9d3d5f12f141a993f4c12362b4a176": {
      "model_module": "@jupyter-widgets/controls",
      "model_module_version": "1.5.0",
      "model_name": "HTMLModel",
      "state": {
       "_dom_classes": [],
       "_model_module": "@jupyter-widgets/controls",
       "_model_module_version": "1.5.0",
       "_model_name": "HTMLModel",
       "_view_count": null,
       "_view_module": "@jupyter-widgets/controls",
       "_view_module_version": "1.5.0",
       "_view_name": "HTMLView",
       "description": "",
       "description_tooltip": null,
       "layout": "IPY_MODEL_4666b4331671487d9f283522819d65be",
       "placeholder": "​",
       "style": "IPY_MODEL_77d51ed7eb0b4dcbb0068e3358528b1d",
       "value": "100%"
      }
     },
     "fe84c1c29bc64eb69defd264ebe749d1": {
      "model_module": "@jupyter-widgets/controls",
      "model_module_version": "1.5.0",
      "model_name": "HTMLModel",
      "state": {
       "_dom_classes": [],
       "_model_module": "@jupyter-widgets/controls",
       "_model_module_version": "1.5.0",
       "_model_name": "HTMLModel",
       "_view_count": null,
       "_view_module": "@jupyter-widgets/controls",
       "_view_module_version": "1.5.0",
       "_view_name": "HTMLView",
       "description": "",
       "description_tooltip": null,
       "layout": "IPY_MODEL_4b8708fed23c45b792961bbe880fb29c",
       "placeholder": "​",
       "style": "IPY_MODEL_bd5741c7ab7948eba84a7700c1e1cc73",
       "value": " 4/4 [00:11&lt;00:00,  3.06s/it]"
      }
     }
    },
    "version_major": 2,
    "version_minor": 0
   }
  }
 },
 "nbformat": 4,
 "nbformat_minor": 5
}
